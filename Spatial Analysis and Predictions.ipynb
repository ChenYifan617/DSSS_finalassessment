{
 "cells": [
  {
   "cell_type": "markdown",
   "metadata": {},
   "source": [
    "# <center> House Prices in Seattle: Spatial Analysis and Predictions"
   ]
  },
  {
   "cell_type": "markdown",
   "metadata": {},
   "source": [
    "## I. Introduction\n",
    "\n",
    "Real estate data is highly related to spatial pattern. If we want to fit real estate data to regression models to predict price of property, we normally need to fit our models by stratify the data into spatial levels. In this report, I will create a data-driven valuation model for the housing market for Seattle. I will explore different regression models with increasing complexity to define a valuation model and compare the spatial model to normal regression model to tell whether we can model sale price of the homes with a purely data-driven approach. Fist, I will use the simplest model which is Linear Regression as baseline. Next, I will use Geographically Weighted Regression. Finally, I will use Random Forest Regression."
   ]
  },
  {
   "cell_type": "markdown",
   "metadata": {},
   "source": [
    "## II. Literature review \n",
    "The GWR model defines a spatial model for home sale price and represents the hedonic model for sale price (Can, 1992) with geographically varying weights. Through applying spatial statistical analysis, the relationship between the effects of various factors and spatial distribution of residential house price are better to be figured out. Traditional regression models are without the consideration of spatial characteristics cannot reach very nice precision to simulate the spatial distribution of the house price. When considering these factors such as the land price, transportation, the distance to the commercial centre, and applying GWR, the result is much better than standard linear regression. It is demonstrated that GWR provides an effective model to present the distribution of the residential house price and serve as a tool for house price appraisal during the property tax levy process. (Jijin,2011)\n",
    "Normally, the Euclidean distance is the default metric for calibrating a GWR model in previous research and applications (Lu,2011); In Binbin’s study, a GWR model is built to commit insights about spatially varying relationships between price and square feet of houses in London. The result is a fixed kernel makes a significant improvement.\n",
    "Normally, the geographically weighted regression (GWR) model cannot put temporal issues into account, which means GWR has better been incorporated with time series effects, which named an extended GWR model, to deal with both spatial and temporal non stationarity real estate market data. (Bo,2008) Real estate data has temporal heterogeneity behaviour. Standard GWR model has hard time to deal with this kind of trait. There should have substantial benefits in modelling both spatial and temporal non stationarity simultaneously. "
   ]
  },
  {
   "cell_type": "markdown",
   "metadata": {},
   "source": [
    "## III. Research question\n",
    "**Question 1** What relationships between property characteristics and target?\n",
    "\n",
    "**Question 2** What are differences of the models' performances?\n",
    "\n",
    "**Question 3** How to improve exploratory models to predict price?"
   ]
  },
  {
   "cell_type": "markdown",
   "metadata": {},
   "source": [
    "## IV. IV. Presentation of data \n",
    "\n",
    "**(1) Data Cleaning**\n",
    "\n",
    "After checking every features’ missing values’ percentage, I found HOA has more than 90% percentage missing values since there is possible reason is single family house has no HOA fees. Therefore, I fulfill the NA in HOA columns with 0. For BATHS columns, there is 1.6% missing values. I fulfill the NA with BATHS feature’s mean since these NA rows are all ‘single family type’ and the ‘SQFT’ is not extremely small which has potential missing bathroom."
   ]
  },
  {
   "cell_type": "code",
   "execution_count": 1,
   "metadata": {},
   "outputs": [],
   "source": [
    "import numpy as np\n",
    "import pandas as pd\n",
    "\n",
    "import matplotlib.pyplot as plt\n",
    "import seaborn as sns\n",
    "import statsmodels.api as sm\n",
    "from shapely.geometry import Point,Polygon\n",
    "import descartes\n",
    "import geopandas as gpd\n",
    "from mgwr.gwr import GWR, MGWR\n",
    "from mgwr.sel_bw import Sel_BW\n",
    "import warnings\n",
    "warnings.filterwarnings('ignore')"
   ]
  },
  {
   "cell_type": "code",
   "execution_count": 2,
   "metadata": {
    "scrolled": false
   },
   "outputs": [
    {
     "name": "stdout",
     "output_type": "stream",
     "text": [
      "(2425, 19) (587, 17)\n"
     ]
    },
    {
     "data": {
      "text/html": [
       "<div>\n",
       "<style scoped>\n",
       "    .dataframe tbody tr th:only-of-type {\n",
       "        vertical-align: middle;\n",
       "    }\n",
       "\n",
       "    .dataframe tbody tr th {\n",
       "        vertical-align: top;\n",
       "    }\n",
       "\n",
       "    .dataframe thead th {\n",
       "        text-align: right;\n",
       "    }\n",
       "</style>\n",
       "<table border=\"1\" class=\"dataframe\">\n",
       "  <thead>\n",
       "    <tr style=\"text-align: right;\">\n",
       "      <th></th>\n",
       "      <th>SALETYPE</th>\n",
       "      <th>SOLDDATE</th>\n",
       "      <th>PROPERTY TYPE</th>\n",
       "      <th>ADDRESS</th>\n",
       "      <th>CITY</th>\n",
       "      <th>STATE</th>\n",
       "      <th>ZIPCODE</th>\n",
       "      <th>PRICE</th>\n",
       "      <th>BEDS</th>\n",
       "      <th>BATHS</th>\n",
       "      <th>SQFT</th>\n",
       "      <th>LOTSIZE</th>\n",
       "      <th>YEARBUILT</th>\n",
       "      <th>DAYSONMARKET</th>\n",
       "      <th>PPSQFT</th>\n",
       "      <th>HOA</th>\n",
       "      <th>URL</th>\n",
       "      <th>LATITUDE</th>\n",
       "      <th>LONGITUDE</th>\n",
       "    </tr>\n",
       "  </thead>\n",
       "  <tbody>\n",
       "    <tr>\n",
       "      <th>0</th>\n",
       "      <td>PAST SALE</td>\n",
       "      <td>January-16-2020</td>\n",
       "      <td>Single Family Residential</td>\n",
       "      <td>3836 Belvidere Ave SW</td>\n",
       "      <td>Seattle</td>\n",
       "      <td>WA</td>\n",
       "      <td>98126</td>\n",
       "      <td>516000</td>\n",
       "      <td>2</td>\n",
       "      <td>1.0</td>\n",
       "      <td>720</td>\n",
       "      <td>5175</td>\n",
       "      <td>1943</td>\n",
       "      <td>125</td>\n",
       "      <td>717</td>\n",
       "      <td>NaN</td>\n",
       "      <td>http://www.redfin.com/WA/Seattle/3836-Belvider...</td>\n",
       "      <td>47.568748</td>\n",
       "      <td>-122.379796</td>\n",
       "    </tr>\n",
       "    <tr>\n",
       "      <th>1</th>\n",
       "      <td>PAST SALE</td>\n",
       "      <td>July-15-2019</td>\n",
       "      <td>Single Family Residential</td>\n",
       "      <td>4205 S Kenny St</td>\n",
       "      <td>Seattle</td>\n",
       "      <td>WA</td>\n",
       "      <td>98118</td>\n",
       "      <td>395000</td>\n",
       "      <td>2</td>\n",
       "      <td>1.0</td>\n",
       "      <td>500</td>\n",
       "      <td>4725</td>\n",
       "      <td>1929</td>\n",
       "      <td>310</td>\n",
       "      <td>790</td>\n",
       "      <td>NaN</td>\n",
       "      <td>http://www.redfin.com/WA/Seattle/4205-S-Kenny-...</td>\n",
       "      <td>47.548769</td>\n",
       "      <td>-122.280430</td>\n",
       "    </tr>\n",
       "    <tr>\n",
       "      <th>2</th>\n",
       "      <td>PAST SALE</td>\n",
       "      <td>April-3-2020</td>\n",
       "      <td>Single Family Residential</td>\n",
       "      <td>4408 SW Graham St</td>\n",
       "      <td>Seattle</td>\n",
       "      <td>WA</td>\n",
       "      <td>98136</td>\n",
       "      <td>595000</td>\n",
       "      <td>2</td>\n",
       "      <td>1.0</td>\n",
       "      <td>640</td>\n",
       "      <td>4000</td>\n",
       "      <td>1918</td>\n",
       "      <td>47</td>\n",
       "      <td>930</td>\n",
       "      <td>NaN</td>\n",
       "      <td>http://www.redfin.com/WA/Seattle/4408-SW-Graha...</td>\n",
       "      <td>47.546915</td>\n",
       "      <td>-122.389220</td>\n",
       "    </tr>\n",
       "    <tr>\n",
       "      <th>3</th>\n",
       "      <td>PAST SALE</td>\n",
       "      <td>March-20-2020</td>\n",
       "      <td>Single Family Residential</td>\n",
       "      <td>12624 70th Ave S</td>\n",
       "      <td>Seattle</td>\n",
       "      <td>WA</td>\n",
       "      <td>98178</td>\n",
       "      <td>397000</td>\n",
       "      <td>2</td>\n",
       "      <td>1.0</td>\n",
       "      <td>710</td>\n",
       "      <td>6960</td>\n",
       "      <td>1943</td>\n",
       "      <td>61</td>\n",
       "      <td>559</td>\n",
       "      <td>NaN</td>\n",
       "      <td>http://www.redfin.com/WA/Seattle/12624-70th-Av...</td>\n",
       "      <td>47.488608</td>\n",
       "      <td>-122.246402</td>\n",
       "    </tr>\n",
       "    <tr>\n",
       "      <th>4</th>\n",
       "      <td>PAST SALE</td>\n",
       "      <td>September-19-2019</td>\n",
       "      <td>Single Family Residential</td>\n",
       "      <td>617 23rd Ave E</td>\n",
       "      <td>Seattle</td>\n",
       "      <td>WA</td>\n",
       "      <td>98112</td>\n",
       "      <td>505000</td>\n",
       "      <td>1</td>\n",
       "      <td>1.0</td>\n",
       "      <td>690</td>\n",
       "      <td>3200</td>\n",
       "      <td>1910</td>\n",
       "      <td>244</td>\n",
       "      <td>732</td>\n",
       "      <td>NaN</td>\n",
       "      <td>http://www.redfin.com/WA/Seattle/617-23rd-Ave-...</td>\n",
       "      <td>47.624985</td>\n",
       "      <td>-122.302703</td>\n",
       "    </tr>\n",
       "  </tbody>\n",
       "</table>\n",
       "</div>"
      ],
      "text/plain": [
       "    SALETYPE           SOLDDATE              PROPERTY TYPE  \\\n",
       "0  PAST SALE    January-16-2020  Single Family Residential   \n",
       "1  PAST SALE       July-15-2019  Single Family Residential   \n",
       "2  PAST SALE       April-3-2020  Single Family Residential   \n",
       "3  PAST SALE      March-20-2020  Single Family Residential   \n",
       "4  PAST SALE  September-19-2019  Single Family Residential   \n",
       "\n",
       "                 ADDRESS     CITY STATE  ZIPCODE   PRICE  BEDS  BATHS  SQFT  \\\n",
       "0  3836 Belvidere Ave SW  Seattle    WA    98126  516000     2    1.0   720   \n",
       "1        4205 S Kenny St  Seattle    WA    98118  395000     2    1.0   500   \n",
       "2      4408 SW Graham St  Seattle    WA    98136  595000     2    1.0   640   \n",
       "3       12624 70th Ave S  Seattle    WA    98178  397000     2    1.0   710   \n",
       "4         617 23rd Ave E  Seattle    WA    98112  505000     1    1.0   690   \n",
       "\n",
       "   LOTSIZE  YEARBUILT  DAYSONMARKET  PPSQFT  HOA  \\\n",
       "0     5175       1943           125     717  NaN   \n",
       "1     4725       1929           310     790  NaN   \n",
       "2     4000       1918            47     930  NaN   \n",
       "3     6960       1943            61     559  NaN   \n",
       "4     3200       1910           244     732  NaN   \n",
       "\n",
       "                                                 URL   LATITUDE   LONGITUDE  \n",
       "0  http://www.redfin.com/WA/Seattle/3836-Belvider...  47.568748 -122.379796  \n",
       "1  http://www.redfin.com/WA/Seattle/4205-S-Kenny-...  47.548769 -122.280430  \n",
       "2  http://www.redfin.com/WA/Seattle/4408-SW-Graha...  47.546915 -122.389220  \n",
       "3  http://www.redfin.com/WA/Seattle/12624-70th-Av...  47.488608 -122.246402  \n",
       "4  http://www.redfin.com/WA/Seattle/617-23rd-Ave-...  47.624985 -122.302703  "
      ]
     },
     "metadata": {},
     "output_type": "display_data"
    },
    {
     "data": {
      "text/html": [
       "<div>\n",
       "<style scoped>\n",
       "    .dataframe tbody tr th:only-of-type {\n",
       "        vertical-align: middle;\n",
       "    }\n",
       "\n",
       "    .dataframe tbody tr th {\n",
       "        vertical-align: top;\n",
       "    }\n",
       "\n",
       "    .dataframe thead th {\n",
       "        text-align: right;\n",
       "    }\n",
       "</style>\n",
       "<table border=\"1\" class=\"dataframe\">\n",
       "  <thead>\n",
       "    <tr style=\"text-align: right;\">\n",
       "      <th></th>\n",
       "      <th>PROPERTY TYPE</th>\n",
       "      <th>ADDRESS</th>\n",
       "      <th>CITY</th>\n",
       "      <th>STATE</th>\n",
       "      <th>ZIPCODE</th>\n",
       "      <th>PRICE</th>\n",
       "      <th>BEDS</th>\n",
       "      <th>BATHS</th>\n",
       "      <th>LOCATION</th>\n",
       "      <th>SQFT</th>\n",
       "      <th>LOTSIZE</th>\n",
       "      <th>YEARBUILT</th>\n",
       "      <th>DAYSONMARKET</th>\n",
       "      <th>PPSQFT</th>\n",
       "      <th>HOA</th>\n",
       "      <th>LATITUDE</th>\n",
       "      <th>LONGITUDE</th>\n",
       "    </tr>\n",
       "  </thead>\n",
       "  <tbody>\n",
       "    <tr>\n",
       "      <th>0</th>\n",
       "      <td>Single Family Residential</td>\n",
       "      <td>6010 SW Orleans St</td>\n",
       "      <td>Seattle</td>\n",
       "      <td>WA</td>\n",
       "      <td>98116</td>\n",
       "      <td>1395000</td>\n",
       "      <td>3</td>\n",
       "      <td>2.50</td>\n",
       "      <td>Alki</td>\n",
       "      <td>2840</td>\n",
       "      <td>5750.0</td>\n",
       "      <td>2006.0</td>\n",
       "      <td>1.0</td>\n",
       "      <td>491</td>\n",
       "      <td>NaN</td>\n",
       "      <td>47.571150</td>\n",
       "      <td>-122.410169</td>\n",
       "    </tr>\n",
       "    <tr>\n",
       "      <th>1</th>\n",
       "      <td>Single Family Residential</td>\n",
       "      <td>11210 81st Ave S</td>\n",
       "      <td>Seattle</td>\n",
       "      <td>WA</td>\n",
       "      <td>98178</td>\n",
       "      <td>450000</td>\n",
       "      <td>3</td>\n",
       "      <td>1.75</td>\n",
       "      <td>Bryn Mawr</td>\n",
       "      <td>1700</td>\n",
       "      <td>6955.0</td>\n",
       "      <td>1956.0</td>\n",
       "      <td>12.0</td>\n",
       "      <td>265</td>\n",
       "      <td>NaN</td>\n",
       "      <td>47.502343</td>\n",
       "      <td>-122.230636</td>\n",
       "    </tr>\n",
       "    <tr>\n",
       "      <th>2</th>\n",
       "      <td>Single Family Residential</td>\n",
       "      <td>9516 Densmore Ave N</td>\n",
       "      <td>Seattle</td>\n",
       "      <td>WA</td>\n",
       "      <td>98103</td>\n",
       "      <td>975000</td>\n",
       "      <td>3</td>\n",
       "      <td>2.75</td>\n",
       "      <td>Licton Springs</td>\n",
       "      <td>2220</td>\n",
       "      <td>5000.0</td>\n",
       "      <td>1924.0</td>\n",
       "      <td>14.0</td>\n",
       "      <td>439</td>\n",
       "      <td>NaN</td>\n",
       "      <td>47.698327</td>\n",
       "      <td>-122.337338</td>\n",
       "    </tr>\n",
       "    <tr>\n",
       "      <th>3</th>\n",
       "      <td>Single Family Residential</td>\n",
       "      <td>3257 25th Ave W</td>\n",
       "      <td>Seattle</td>\n",
       "      <td>WA</td>\n",
       "      <td>98199</td>\n",
       "      <td>1049000</td>\n",
       "      <td>3</td>\n",
       "      <td>2.50</td>\n",
       "      <td>Magnolia</td>\n",
       "      <td>2360</td>\n",
       "      <td>4320.0</td>\n",
       "      <td>1990.0</td>\n",
       "      <td>20.0</td>\n",
       "      <td>444</td>\n",
       "      <td>NaN</td>\n",
       "      <td>47.650165</td>\n",
       "      <td>-122.388904</td>\n",
       "    </tr>\n",
       "    <tr>\n",
       "      <th>4</th>\n",
       "      <td>Single Family Residential</td>\n",
       "      <td>4616 47th Ave S</td>\n",
       "      <td>Seattle</td>\n",
       "      <td>WA</td>\n",
       "      <td>98118</td>\n",
       "      <td>820000</td>\n",
       "      <td>3</td>\n",
       "      <td>2.50</td>\n",
       "      <td>Seward Park</td>\n",
       "      <td>1710</td>\n",
       "      <td>3590.0</td>\n",
       "      <td>1988.0</td>\n",
       "      <td>23.0</td>\n",
       "      <td>480</td>\n",
       "      <td>NaN</td>\n",
       "      <td>47.561183</td>\n",
       "      <td>-122.274225</td>\n",
       "    </tr>\n",
       "  </tbody>\n",
       "</table>\n",
       "</div>"
      ],
      "text/plain": [
       "               PROPERTY TYPE              ADDRESS     CITY STATE  ZIPCODE  \\\n",
       "0  Single Family Residential   6010 SW Orleans St  Seattle    WA    98116   \n",
       "1  Single Family Residential     11210 81st Ave S  Seattle    WA    98178   \n",
       "2  Single Family Residential  9516 Densmore Ave N  Seattle    WA    98103   \n",
       "3  Single Family Residential      3257 25th Ave W  Seattle    WA    98199   \n",
       "4  Single Family Residential      4616 47th Ave S  Seattle    WA    98118   \n",
       "\n",
       "     PRICE  BEDS  BATHS        LOCATION  SQFT  LOTSIZE  YEARBUILT  \\\n",
       "0  1395000     3   2.50            Alki  2840   5750.0     2006.0   \n",
       "1   450000     3   1.75       Bryn Mawr  1700   6955.0     1956.0   \n",
       "2   975000     3   2.75  Licton Springs  2220   5000.0     1924.0   \n",
       "3  1049000     3   2.50        Magnolia  2360   4320.0     1990.0   \n",
       "4   820000     3   2.50     Seward Park  1710   3590.0     1988.0   \n",
       "\n",
       "   DAYSONMARKET  PPSQFT  HOA   LATITUDE   LONGITUDE  \n",
       "0           1.0     491  NaN  47.571150 -122.410169  \n",
       "1          12.0     265  NaN  47.502343 -122.230636  \n",
       "2          14.0     439  NaN  47.698327 -122.337338  \n",
       "3          20.0     444  NaN  47.650165 -122.388904  \n",
       "4          23.0     480  NaN  47.561183 -122.274225  "
      ]
     },
     "metadata": {},
     "output_type": "display_data"
    }
   ],
   "source": [
    "#sold = pd.read_csv('https://github.com/ChenYifan617/DSSS_finalassessment/raw/main/sea_sold.csv')\n",
    "#onsale = pd.read_csv('https://github.com/ChenYifan617/DSSS_finalassessment/raw/main/sea_onsale.csv')\n",
    "sold = pd.read_csv('sea_sold.csv')\n",
    "onsale = pd.read_csv('sea_onsale.csv')\n",
    "print(sold.shape,onsale.shape)\n",
    "display(sold.head(),onsale.head())"
   ]
  },
  {
   "cell_type": "code",
   "execution_count": 3,
   "metadata": {},
   "outputs": [
    {
     "data": {
      "text/plain": [
       "SALETYPE          object\n",
       "SOLDDATE          object\n",
       "PROPERTY TYPE     object\n",
       "ADDRESS           object\n",
       "CITY              object\n",
       "STATE             object\n",
       "ZIPCODE            int64\n",
       "PRICE              int64\n",
       "BEDS               int64\n",
       "BATHS            float64\n",
       "SQFT               int64\n",
       "LOTSIZE            int64\n",
       "YEARBUILT          int64\n",
       "DAYSONMARKET       int64\n",
       "PPSQFT             int64\n",
       "HOA              float64\n",
       "URL               object\n",
       "LATITUDE         float64\n",
       "LONGITUDE        float64\n",
       "dtype: object"
      ]
     },
     "metadata": {},
     "output_type": "display_data"
    },
    {
     "data": {
      "text/plain": [
       "PROPERTY TYPE     object\n",
       "ADDRESS           object\n",
       "CITY              object\n",
       "STATE             object\n",
       "ZIPCODE            int64\n",
       "PRICE              int64\n",
       "BEDS               int64\n",
       "BATHS            float64\n",
       "LOCATION          object\n",
       "SQFT               int64\n",
       "LOTSIZE          float64\n",
       "YEARBUILT        float64\n",
       "DAYSONMARKET     float64\n",
       "PPSQFT             int64\n",
       "HOA              float64\n",
       "LATITUDE         float64\n",
       "LONGITUDE        float64\n",
       "dtype: object"
      ]
     },
     "metadata": {},
     "output_type": "display_data"
    }
   ],
   "source": [
    "display(sold.dtypes,onsale.dtypes)"
   ]
  },
  {
   "cell_type": "code",
   "execution_count": 4,
   "metadata": {},
   "outputs": [],
   "source": [
    "sold['SOLDDATE'] = pd.to_datetime(sold['SOLDDATE'],infer_datetime_format=True)"
   ]
  },
  {
   "cell_type": "code",
   "execution_count": 5,
   "metadata": {},
   "outputs": [
    {
     "name": "stdout",
     "output_type": "stream",
     "text": [
      "SALETYPE : 0.0 % missing values\n",
      "SOLDDATE : 0.0 % missing values\n",
      "PROPERTY TYPE : 0.0 % missing values\n",
      "ADDRESS : 0.0 % missing values\n",
      "CITY : 0.0 % missing values\n",
      "STATE : 0.0 % missing values\n",
      "ZIPCODE : 0.0 % missing values\n",
      "PRICE : 0.0 % missing values\n",
      "BEDS : 0.0 % missing values\n",
      "BATHS : 1.6082474226804124 % missing values\n",
      "SQFT : 0.0 % missing values\n",
      "LOTSIZE : 0.0 % missing values\n",
      "YEARBUILT : 0.0 % missing values\n",
      "DAYSONMARKET : 0.0 % missing values\n",
      "PPSQFT : 0.0 % missing values\n",
      "HOA : 95.29896907216495 % missing values\n",
      "URL : 0.0 % missing values\n",
      "LATITUDE : 0.0 % missing values\n",
      "LONGITUDE : 0.0 % missing values\n"
     ]
    }
   ],
   "source": [
    "features = sold.columns\n",
    "for feature in features:\n",
    "    print(feature,':',sold[feature].isnull().mean()*100,'% missing values')"
   ]
  },
  {
   "cell_type": "code",
   "execution_count": 6,
   "metadata": {},
   "outputs": [
    {
     "name": "stdout",
     "output_type": "stream",
     "text": [
      "PROPERTY TYPE : 0.0 % missing values\n",
      "ADDRESS : 0.0 % missing values\n",
      "CITY : 0.0 % missing values\n",
      "STATE : 0.0 % missing values\n",
      "ZIPCODE : 0.0 % missing values\n",
      "PRICE : 0.0 % missing values\n",
      "BEDS : 0.0 % missing values\n",
      "BATHS : 1.0221465076660987 % missing values\n",
      "LOCATION : 0.0 % missing values\n",
      "SQFT : 0.0 % missing values\n",
      "LOTSIZE : 0.34071550255536626 % missing values\n",
      "YEARBUILT : 0.34071550255536626 % missing values\n",
      "DAYSONMARKET : 0.34071550255536626 % missing values\n",
      "PPSQFT : 0.0 % missing values\n",
      "HOA : 95.05962521294718 % missing values\n",
      "LATITUDE : 0.0 % missing values\n",
      "LONGITUDE : 0.0 % missing values\n"
     ]
    }
   ],
   "source": [
    "features = onsale.columns\n",
    "for feature in features:\n",
    "    print(feature,':',onsale[feature].isnull().mean()*100,'% missing values')"
   ]
  },
  {
   "cell_type": "code",
   "execution_count": 7,
   "metadata": {},
   "outputs": [],
   "source": [
    "sold['BATHS'].fillna(sold['BATHS'].mean(),inplace=True)\n",
    "sold['HOA'].fillna(0,inplace=True)\n",
    "onsale['BATHS'].fillna(onsale['BATHS'].mean(),inplace=True)\n",
    "onsale['LOTSIZE'].fillna(onsale['LOTSIZE'].mean(),inplace=True)\n",
    "onsale['DAYSONMARKET'].fillna(onsale['DAYSONMARKET'].mean(),inplace=True)\n",
    "onsale['BATHS'].fillna(onsale['BATHS'].mean(),inplace=True)\n",
    "onsale['HOA'].fillna(0,inplace=True)"
   ]
  },
  {
   "cell_type": "code",
   "execution_count": 8,
   "metadata": {},
   "outputs": [
    {
     "data": {
      "text/html": [
       "<div>\n",
       "<style scoped>\n",
       "    .dataframe tbody tr th:only-of-type {\n",
       "        vertical-align: middle;\n",
       "    }\n",
       "\n",
       "    .dataframe tbody tr th {\n",
       "        vertical-align: top;\n",
       "    }\n",
       "\n",
       "    .dataframe thead th {\n",
       "        text-align: right;\n",
       "    }\n",
       "</style>\n",
       "<table border=\"1\" class=\"dataframe\">\n",
       "  <thead>\n",
       "    <tr style=\"text-align: right;\">\n",
       "      <th></th>\n",
       "      <th>ZIPCODE</th>\n",
       "      <th>PRICE</th>\n",
       "      <th>BEDS</th>\n",
       "      <th>BATHS</th>\n",
       "      <th>SQFT</th>\n",
       "      <th>LOTSIZE</th>\n",
       "      <th>YEARBUILT</th>\n",
       "      <th>DAYSONMARKET</th>\n",
       "      <th>PPSQFT</th>\n",
       "      <th>HOA</th>\n",
       "      <th>LATITUDE</th>\n",
       "      <th>LONGITUDE</th>\n",
       "    </tr>\n",
       "  </thead>\n",
       "  <tbody>\n",
       "    <tr>\n",
       "      <th>count</th>\n",
       "      <td>2425.000000</td>\n",
       "      <td>2.425000e+03</td>\n",
       "      <td>2425.000000</td>\n",
       "      <td>2425.000000</td>\n",
       "      <td>2425.000000</td>\n",
       "      <td>2425.000000</td>\n",
       "      <td>2425.000000</td>\n",
       "      <td>2425.000000</td>\n",
       "      <td>2425.000000</td>\n",
       "      <td>2425.000000</td>\n",
       "      <td>2425.000000</td>\n",
       "      <td>2425.000000</td>\n",
       "    </tr>\n",
       "    <tr>\n",
       "      <th>mean</th>\n",
       "      <td>98125.700619</td>\n",
       "      <td>8.676954e+05</td>\n",
       "      <td>3.035876</td>\n",
       "      <td>2.081727</td>\n",
       "      <td>1835.970309</td>\n",
       "      <td>5351.572371</td>\n",
       "      <td>1973.705155</td>\n",
       "      <td>203.764124</td>\n",
       "      <td>489.573196</td>\n",
       "      <td>5.697320</td>\n",
       "      <td>47.611036</td>\n",
       "      <td>-122.335181</td>\n",
       "    </tr>\n",
       "    <tr>\n",
       "      <th>std</th>\n",
       "      <td>46.603059</td>\n",
       "      <td>5.977748e+05</td>\n",
       "      <td>1.058105</td>\n",
       "      <td>0.952364</td>\n",
       "      <td>985.379100</td>\n",
       "      <td>5822.109539</td>\n",
       "      <td>38.497001</td>\n",
       "      <td>105.828870</td>\n",
       "      <td>160.078672</td>\n",
       "      <td>40.384833</td>\n",
       "      <td>0.074740</td>\n",
       "      <td>0.044369</td>\n",
       "    </tr>\n",
       "    <tr>\n",
       "      <th>min</th>\n",
       "      <td>96168.000000</td>\n",
       "      <td>1.550000e+05</td>\n",
       "      <td>0.000000</td>\n",
       "      <td>0.750000</td>\n",
       "      <td>360.000000</td>\n",
       "      <td>518.000000</td>\n",
       "      <td>1892.000000</td>\n",
       "      <td>1.000000</td>\n",
       "      <td>191.000000</td>\n",
       "      <td>0.000000</td>\n",
       "      <td>47.483279</td>\n",
       "      <td>-122.418553</td>\n",
       "    </tr>\n",
       "    <tr>\n",
       "      <th>25%</th>\n",
       "      <td>98108.000000</td>\n",
       "      <td>5.440000e+05</td>\n",
       "      <td>2.000000</td>\n",
       "      <td>1.000000</td>\n",
       "      <td>1125.000000</td>\n",
       "      <td>3487.000000</td>\n",
       "      <td>1942.000000</td>\n",
       "      <td>113.000000</td>\n",
       "      <td>390.000000</td>\n",
       "      <td>0.000000</td>\n",
       "      <td>47.541737</td>\n",
       "      <td>-122.371793</td>\n",
       "    </tr>\n",
       "    <tr>\n",
       "      <th>50%</th>\n",
       "      <td>98118.000000</td>\n",
       "      <td>6.915180e+05</td>\n",
       "      <td>3.000000</td>\n",
       "      <td>2.000000</td>\n",
       "      <td>1460.000000</td>\n",
       "      <td>5000.000000</td>\n",
       "      <td>1984.000000</td>\n",
       "      <td>215.000000</td>\n",
       "      <td>474.000000</td>\n",
       "      <td>0.000000</td>\n",
       "      <td>47.613084</td>\n",
       "      <td>-122.346523</td>\n",
       "    </tr>\n",
       "    <tr>\n",
       "      <th>75%</th>\n",
       "      <td>98133.000000</td>\n",
       "      <td>9.880000e+05</td>\n",
       "      <td>4.000000</td>\n",
       "      <td>2.750000</td>\n",
       "      <td>2410.000000</td>\n",
       "      <td>6298.000000</td>\n",
       "      <td>2013.000000</td>\n",
       "      <td>296.000000</td>\n",
       "      <td>559.000000</td>\n",
       "      <td>0.000000</td>\n",
       "      <td>47.680736</td>\n",
       "      <td>-122.297838</td>\n",
       "    </tr>\n",
       "    <tr>\n",
       "      <th>max</th>\n",
       "      <td>98199.000000</td>\n",
       "      <td>1.375000e+07</td>\n",
       "      <td>6.000000</td>\n",
       "      <td>6.250000</td>\n",
       "      <td>7100.000000</td>\n",
       "      <td>204051.000000</td>\n",
       "      <td>2020.000000</td>\n",
       "      <td>365.000000</td>\n",
       "      <td>2795.000000</td>\n",
       "      <td>1200.000000</td>\n",
       "      <td>47.735324</td>\n",
       "      <td>-122.221729</td>\n",
       "    </tr>\n",
       "  </tbody>\n",
       "</table>\n",
       "</div>"
      ],
      "text/plain": [
       "            ZIPCODE         PRICE         BEDS        BATHS         SQFT  \\\n",
       "count   2425.000000  2.425000e+03  2425.000000  2425.000000  2425.000000   \n",
       "mean   98125.700619  8.676954e+05     3.035876     2.081727  1835.970309   \n",
       "std       46.603059  5.977748e+05     1.058105     0.952364   985.379100   \n",
       "min    96168.000000  1.550000e+05     0.000000     0.750000   360.000000   \n",
       "25%    98108.000000  5.440000e+05     2.000000     1.000000  1125.000000   \n",
       "50%    98118.000000  6.915180e+05     3.000000     2.000000  1460.000000   \n",
       "75%    98133.000000  9.880000e+05     4.000000     2.750000  2410.000000   \n",
       "max    98199.000000  1.375000e+07     6.000000     6.250000  7100.000000   \n",
       "\n",
       "             LOTSIZE    YEARBUILT  DAYSONMARKET       PPSQFT          HOA  \\\n",
       "count    2425.000000  2425.000000   2425.000000  2425.000000  2425.000000   \n",
       "mean     5351.572371  1973.705155    203.764124   489.573196     5.697320   \n",
       "std      5822.109539    38.497001    105.828870   160.078672    40.384833   \n",
       "min       518.000000  1892.000000      1.000000   191.000000     0.000000   \n",
       "25%      3487.000000  1942.000000    113.000000   390.000000     0.000000   \n",
       "50%      5000.000000  1984.000000    215.000000   474.000000     0.000000   \n",
       "75%      6298.000000  2013.000000    296.000000   559.000000     0.000000   \n",
       "max    204051.000000  2020.000000    365.000000  2795.000000  1200.000000   \n",
       "\n",
       "          LATITUDE    LONGITUDE  \n",
       "count  2425.000000  2425.000000  \n",
       "mean     47.611036  -122.335181  \n",
       "std       0.074740     0.044369  \n",
       "min      47.483279  -122.418553  \n",
       "25%      47.541737  -122.371793  \n",
       "50%      47.613084  -122.346523  \n",
       "75%      47.680736  -122.297838  \n",
       "max      47.735324  -122.221729  "
      ]
     },
     "execution_count": 8,
     "metadata": {},
     "output_type": "execute_result"
    }
   ],
   "source": [
    "sold.describe()"
   ]
  },
  {
   "cell_type": "markdown",
   "metadata": {},
   "source": [
    "After Identifying the variables related to the house prices and features and explore their statistics and distribution. I noticed some outliers. Specifically, some records have BEDS equal to 0, and BATHS taking fraction values. I checked the boxplot of target(price) and tell the outlier are above 2000000. "
   ]
  },
  {
   "cell_type": "code",
   "execution_count": 9,
   "metadata": {},
   "outputs": [
    {
     "data": {
      "image/png": "[encoded data removed]",
      "text/plain": [
       "<Figure size 432x288 with 1 Axes>"
      ]
     },
     "metadata": {
      "needs_background": "light"
     },
     "output_type": "display_data"
    }
   ],
   "source": [
    "sns.boxplot(x='PRICE',data=sold)\n",
    "plt.show()"
   ]
  },
  {
   "cell_type": "markdown",
   "metadata": {},
   "source": [
    "After delete the outliers, we can see the distribution of price are more like normal distribution."
   ]
  },
  {
   "cell_type": "code",
   "execution_count": 10,
   "metadata": {},
   "outputs": [
    {
     "name": "stdout",
     "output_type": "stream",
     "text": [
      "You dropped 97 rows.\n",
      "Dataset has 2328 rows, 19 columns.\n"
     ]
    },
    {
     "data": {
      "image/png": "[encoded data removed]",
      "text/plain": [
       "<Figure size 1152x288 with 2 Axes>"
      ]
     },
     "metadata": {
      "needs_background": "light"
     },
     "output_type": "display_data"
    }
   ],
   "source": [
    "fig, axs = plt.subplots(ncols=2, figsize=(16, 4))\n",
    "fig.suptitle('Distribution of price (before and after removing high-priced outliers)')\n",
    "\n",
    "data = sold.copy()\n",
    "target = 'PRICE'\n",
    "# Before cleaning\n",
    "x_axis = data[target].dropna()\n",
    "sns.distplot(pd.Series(x_axis, name='Price (before cleaning)'), ax=axs[0])\n",
    "\n",
    "# Remove where price > 2000000\n",
    "condition = data[(data[target] < 2000000)]\n",
    "rows_to_drop = np.delete(data.index,condition.index)\n",
    "print(\"You dropped {} rows.\".format(rows_to_drop.shape[0]))\n",
    "trainc = data.copy()\n",
    "trainc = trainc.drop(rows_to_drop, axis=0)\n",
    "print(\"Dataset has {} rows, {} columns.\".format(*trainc.shape))\n",
    "#After cleaning\n",
    "x_axis = trainc[target].dropna()\n",
    "sns.distplot(pd.Series(x_axis, name='Price (after cleaning)'), ax=axs[1])\n",
    "sold = sold[sold['PRICE'] < 2000000]\n",
    "onsale = onsale[onsale['PRICE'] < 2000000];"
   ]
  },
  {
   "cell_type": "markdown",
   "metadata": {},
   "source": [
    "After cleaning target column’s outlier, check the boxplot of ‘BEDS’ and find some residuals have 0 bed which has no sense. Therefore, I delete BEDS=0 rows."
   ]
  },
  {
   "cell_type": "code",
   "execution_count": 11,
   "metadata": {},
   "outputs": [
    {
     "data": {
      "image/png": "[encoded data removed]",
      "text/plain": [
       "<Figure size 432x288 with 1 Axes>"
      ]
     },
     "metadata": {
      "needs_background": "light"
     },
     "output_type": "display_data"
    }
   ],
   "source": [
    "sns.boxplot(x='BEDS',data=sold)\n",
    "plt.show()"
   ]
  },
  {
   "cell_type": "code",
   "execution_count": 12,
   "metadata": {},
   "outputs": [],
   "source": [
    "sold = sold[sold['BEDS']!=0]\n",
    "onsale = onsale[onsale['BEDS']!=0]"
   ]
  },
  {
   "cell_type": "markdown",
   "metadata": {},
   "source": [
    "Next step is to check the outlier of BATHS by using boxplot of the relationship between BATHS and PRICE. Some BATHS are fraction probably because some one is smaller than normal bathroom’s size, so I prefer to keep these fraction numbers. "
   ]
  },
  {
   "cell_type": "code",
   "execution_count": 13,
   "metadata": {},
   "outputs": [
    {
     "data": {
      "image/png": "[encoded data removed]",
      "text/plain": [
       "<Figure size 720x432 with 1 Axes>"
      ]
     },
     "metadata": {
      "needs_background": "light"
     },
     "output_type": "display_data"
    }
   ],
   "source": [
    "fig = plt.figure(figsize=(10,6))\n",
    "sns.boxplot(x='BATHS',y='PRICE',data=sold)\n",
    "plt.show()"
   ]
  },
  {
   "cell_type": "markdown",
   "metadata": {},
   "source": [
    " **(2) Features Selection**\n",
    " \n",
    "After checking the distribution of objective features, I found ‘SALETYPE','PROPERTY TYPE','STATE' only has one unique group, so we do not need to keep them to fit into machine learning models since there are no differences inside of these features. 'URL' and 'ADDRESS' are useless for our modelling because URL is highly related to address and all of them are highly related to LONGITUDE and LATITUDE.\n"
   ]
  },
  {
   "cell_type": "code",
   "execution_count": 14,
   "metadata": {},
   "outputs": [
    {
     "data": {
      "text/html": [
       "<div>\n",
       "<style scoped>\n",
       "    .dataframe tbody tr th:only-of-type {\n",
       "        vertical-align: middle;\n",
       "    }\n",
       "\n",
       "    .dataframe tbody tr th {\n",
       "        vertical-align: top;\n",
       "    }\n",
       "\n",
       "    .dataframe thead th {\n",
       "        text-align: right;\n",
       "    }\n",
       "</style>\n",
       "<table border=\"1\" class=\"dataframe\">\n",
       "  <thead>\n",
       "    <tr style=\"text-align: right;\">\n",
       "      <th></th>\n",
       "      <th>SALETYPE</th>\n",
       "      <th>Ratio</th>\n",
       "    </tr>\n",
       "  </thead>\n",
       "  <tbody>\n",
       "    <tr>\n",
       "      <th>PAST SALE</th>\n",
       "      <td>2291</td>\n",
       "      <td>100.0</td>\n",
       "    </tr>\n",
       "  </tbody>\n",
       "</table>\n",
       "</div>"
      ],
      "text/plain": [
       "           SALETYPE  Ratio\n",
       "PAST SALE      2291  100.0"
      ]
     },
     "metadata": {},
     "output_type": "display_data"
    },
    {
     "data": {
      "text/html": [
       "<div>\n",
       "<style scoped>\n",
       "    .dataframe tbody tr th:only-of-type {\n",
       "        vertical-align: middle;\n",
       "    }\n",
       "\n",
       "    .dataframe tbody tr th {\n",
       "        vertical-align: top;\n",
       "    }\n",
       "\n",
       "    .dataframe thead th {\n",
       "        text-align: right;\n",
       "    }\n",
       "</style>\n",
       "<table border=\"1\" class=\"dataframe\">\n",
       "  <thead>\n",
       "    <tr style=\"text-align: right;\">\n",
       "      <th></th>\n",
       "      <th>PROPERTY TYPE</th>\n",
       "      <th>Ratio</th>\n",
       "    </tr>\n",
       "  </thead>\n",
       "  <tbody>\n",
       "    <tr>\n",
       "      <th>Single Family Residential</th>\n",
       "      <td>2291</td>\n",
       "      <td>100.0</td>\n",
       "    </tr>\n",
       "  </tbody>\n",
       "</table>\n",
       "</div>"
      ],
      "text/plain": [
       "                           PROPERTY TYPE  Ratio\n",
       "Single Family Residential           2291  100.0"
      ]
     },
     "metadata": {},
     "output_type": "display_data"
    },
    {
     "data": {
      "text/html": [
       "<div>\n",
       "<style scoped>\n",
       "    .dataframe tbody tr th:only-of-type {\n",
       "        vertical-align: middle;\n",
       "    }\n",
       "\n",
       "    .dataframe tbody tr th {\n",
       "        vertical-align: top;\n",
       "    }\n",
       "\n",
       "    .dataframe thead th {\n",
       "        text-align: right;\n",
       "    }\n",
       "</style>\n",
       "<table border=\"1\" class=\"dataframe\">\n",
       "  <thead>\n",
       "    <tr style=\"text-align: right;\">\n",
       "      <th></th>\n",
       "      <th>ADDRESS</th>\n",
       "      <th>Ratio</th>\n",
       "    </tr>\n",
       "  </thead>\n",
       "  <tbody>\n",
       "    <tr>\n",
       "      <th>5458 17th Ave SW</th>\n",
       "      <td>2</td>\n",
       "      <td>0.087298</td>\n",
       "    </tr>\n",
       "    <tr>\n",
       "      <th>1407 S 99th St</th>\n",
       "      <td>2</td>\n",
       "      <td>0.087298</td>\n",
       "    </tr>\n",
       "    <tr>\n",
       "      <th>10001 46th Ave S</th>\n",
       "      <td>2</td>\n",
       "      <td>0.087298</td>\n",
       "    </tr>\n",
       "    <tr>\n",
       "      <th>2760 SW Holden St #4</th>\n",
       "      <td>2</td>\n",
       "      <td>0.087298</td>\n",
       "    </tr>\n",
       "    <tr>\n",
       "      <th>2150 32nd Ave W</th>\n",
       "      <td>2</td>\n",
       "      <td>0.087298</td>\n",
       "    </tr>\n",
       "    <tr>\n",
       "      <th>...</th>\n",
       "      <td>...</td>\n",
       "      <td>...</td>\n",
       "    </tr>\n",
       "    <tr>\n",
       "      <th>2829 SW 106th</th>\n",
       "      <td>1</td>\n",
       "      <td>0.043649</td>\n",
       "    </tr>\n",
       "    <tr>\n",
       "      <th>9552 Evanston Ave N</th>\n",
       "      <td>1</td>\n",
       "      <td>0.043649</td>\n",
       "    </tr>\n",
       "    <tr>\n",
       "      <th>652 NW 51st St</th>\n",
       "      <td>1</td>\n",
       "      <td>0.043649</td>\n",
       "    </tr>\n",
       "    <tr>\n",
       "      <th>1040 Lakeview Blvd E</th>\n",
       "      <td>1</td>\n",
       "      <td>0.043649</td>\n",
       "    </tr>\n",
       "    <tr>\n",
       "      <th>314 S 116th St</th>\n",
       "      <td>1</td>\n",
       "      <td>0.043649</td>\n",
       "    </tr>\n",
       "  </tbody>\n",
       "</table>\n",
       "<p>2252 rows × 2 columns</p>\n",
       "</div>"
      ],
      "text/plain": [
       "                      ADDRESS     Ratio\n",
       "5458 17th Ave SW            2  0.087298\n",
       "1407 S 99th St              2  0.087298\n",
       "10001 46th Ave S            2  0.087298\n",
       "2760 SW Holden St #4        2  0.087298\n",
       "2150 32nd Ave W             2  0.087298\n",
       "...                       ...       ...\n",
       "2829 SW 106th               1  0.043649\n",
       "9552 Evanston Ave N         1  0.043649\n",
       "652 NW 51st St              1  0.043649\n",
       "1040 Lakeview Blvd E        1  0.043649\n",
       "314 S 116th St              1  0.043649\n",
       "\n",
       "[2252 rows x 2 columns]"
      ]
     },
     "metadata": {},
     "output_type": "display_data"
    },
    {
     "data": {
      "text/html": [
       "<div>\n",
       "<style scoped>\n",
       "    .dataframe tbody tr th:only-of-type {\n",
       "        vertical-align: middle;\n",
       "    }\n",
       "\n",
       "    .dataframe tbody tr th {\n",
       "        vertical-align: top;\n",
       "    }\n",
       "\n",
       "    .dataframe thead th {\n",
       "        text-align: right;\n",
       "    }\n",
       "</style>\n",
       "<table border=\"1\" class=\"dataframe\">\n",
       "  <thead>\n",
       "    <tr style=\"text-align: right;\">\n",
       "      <th></th>\n",
       "      <th>CITY</th>\n",
       "      <th>Ratio</th>\n",
       "    </tr>\n",
       "  </thead>\n",
       "  <tbody>\n",
       "    <tr>\n",
       "      <th>Seattle</th>\n",
       "      <td>2283</td>\n",
       "      <td>99.650808</td>\n",
       "    </tr>\n",
       "    <tr>\n",
       "      <th>Shoreline</th>\n",
       "      <td>4</td>\n",
       "      <td>0.174596</td>\n",
       "    </tr>\n",
       "    <tr>\n",
       "      <th>Lake Forest Park</th>\n",
       "      <td>2</td>\n",
       "      <td>0.087298</td>\n",
       "    </tr>\n",
       "    <tr>\n",
       "      <th>Burien</th>\n",
       "      <td>1</td>\n",
       "      <td>0.043649</td>\n",
       "    </tr>\n",
       "    <tr>\n",
       "      <th>Kent</th>\n",
       "      <td>1</td>\n",
       "      <td>0.043649</td>\n",
       "    </tr>\n",
       "  </tbody>\n",
       "</table>\n",
       "</div>"
      ],
      "text/plain": [
       "                  CITY      Ratio\n",
       "Seattle           2283  99.650808\n",
       "Shoreline            4   0.174596\n",
       "Lake Forest Park     2   0.087298\n",
       "Burien               1   0.043649\n",
       "Kent                 1   0.043649"
      ]
     },
     "metadata": {},
     "output_type": "display_data"
    },
    {
     "data": {
      "text/html": [
       "<div>\n",
       "<style scoped>\n",
       "    .dataframe tbody tr th:only-of-type {\n",
       "        vertical-align: middle;\n",
       "    }\n",
       "\n",
       "    .dataframe tbody tr th {\n",
       "        vertical-align: top;\n",
       "    }\n",
       "\n",
       "    .dataframe thead th {\n",
       "        text-align: right;\n",
       "    }\n",
       "</style>\n",
       "<table border=\"1\" class=\"dataframe\">\n",
       "  <thead>\n",
       "    <tr style=\"text-align: right;\">\n",
       "      <th></th>\n",
       "      <th>STATE</th>\n",
       "      <th>Ratio</th>\n",
       "    </tr>\n",
       "  </thead>\n",
       "  <tbody>\n",
       "    <tr>\n",
       "      <th>WA</th>\n",
       "      <td>2291</td>\n",
       "      <td>100.0</td>\n",
       "    </tr>\n",
       "  </tbody>\n",
       "</table>\n",
       "</div>"
      ],
      "text/plain": [
       "    STATE  Ratio\n",
       "WA   2291  100.0"
      ]
     },
     "metadata": {},
     "output_type": "display_data"
    },
    {
     "data": {
      "text/html": [
       "<div>\n",
       "<style scoped>\n",
       "    .dataframe tbody tr th:only-of-type {\n",
       "        vertical-align: middle;\n",
       "    }\n",
       "\n",
       "    .dataframe tbody tr th {\n",
       "        vertical-align: top;\n",
       "    }\n",
       "\n",
       "    .dataframe thead th {\n",
       "        text-align: right;\n",
       "    }\n",
       "</style>\n",
       "<table border=\"1\" class=\"dataframe\">\n",
       "  <thead>\n",
       "    <tr style=\"text-align: right;\">\n",
       "      <th></th>\n",
       "      <th>URL</th>\n",
       "      <th>Ratio</th>\n",
       "    </tr>\n",
       "  </thead>\n",
       "  <tbody>\n",
       "    <tr>\n",
       "      <th>http://www.redfin.com/WA/Seattle/14333-Dayton-Ave-N-98133/home/101832</th>\n",
       "      <td>2</td>\n",
       "      <td>0.087298</td>\n",
       "    </tr>\n",
       "    <tr>\n",
       "      <th>http://www.redfin.com/WA/Seattle/7307-24th-Ave-NE-98115/home/309034</th>\n",
       "      <td>2</td>\n",
       "      <td>0.087298</td>\n",
       "    </tr>\n",
       "    <tr>\n",
       "      <th>http://www.redfin.com/WA/Seattle/5120-SW-Olga-St-98116/home/149743</th>\n",
       "      <td>2</td>\n",
       "      <td>0.087298</td>\n",
       "    </tr>\n",
       "    <tr>\n",
       "      <th>http://www.redfin.com/WA/Seattle/6508-16th-Ave-SW-98106/home/161456</th>\n",
       "      <td>2</td>\n",
       "      <td>0.087298</td>\n",
       "    </tr>\n",
       "    <tr>\n",
       "      <th>http://www.redfin.com/WA/Seattle/9033-11th-Ave-SW-98106/home/476365</th>\n",
       "      <td>2</td>\n",
       "      <td>0.087298</td>\n",
       "    </tr>\n",
       "    <tr>\n",
       "      <th>...</th>\n",
       "      <td>...</td>\n",
       "      <td>...</td>\n",
       "    </tr>\n",
       "    <tr>\n",
       "      <th>http://www.redfin.com/WA/Seattle/5312-Beach-Dr-SW-98136/home/153938</th>\n",
       "      <td>1</td>\n",
       "      <td>0.043649</td>\n",
       "    </tr>\n",
       "    <tr>\n",
       "      <th>http://www.redfin.com/WA/Seattle/5209-33rd-Ave-S-98118/home/479319</th>\n",
       "      <td>1</td>\n",
       "      <td>0.043649</td>\n",
       "    </tr>\n",
       "    <tr>\n",
       "      <th>http://www.redfin.com/WA/Seattle/3512-NE-134th-St-98125/home/110821</th>\n",
       "      <td>1</td>\n",
       "      <td>0.043649</td>\n",
       "    </tr>\n",
       "    <tr>\n",
       "      <th>http://www.redfin.com/WA/Seattle/7752-36th-Ave-NE-98115/home/317913</th>\n",
       "      <td>1</td>\n",
       "      <td>0.043649</td>\n",
       "    </tr>\n",
       "    <tr>\n",
       "      <th>http://www.redfin.com/WA/Seattle/9308-46th-Ave-S-98118/home/175517</th>\n",
       "      <td>1</td>\n",
       "      <td>0.043649</td>\n",
       "    </tr>\n",
       "  </tbody>\n",
       "</table>\n",
       "<p>2252 rows × 2 columns</p>\n",
       "</div>"
      ],
      "text/plain": [
       "                                                    URL     Ratio\n",
       "http://www.redfin.com/WA/Seattle/14333-Dayton-A...    2  0.087298\n",
       "http://www.redfin.com/WA/Seattle/7307-24th-Ave-...    2  0.087298\n",
       "http://www.redfin.com/WA/Seattle/5120-SW-Olga-S...    2  0.087298\n",
       "http://www.redfin.com/WA/Seattle/6508-16th-Ave-...    2  0.087298\n",
       "http://www.redfin.com/WA/Seattle/9033-11th-Ave-...    2  0.087298\n",
       "...                                                 ...       ...\n",
       "http://www.redfin.com/WA/Seattle/5312-Beach-Dr-...    1  0.043649\n",
       "http://www.redfin.com/WA/Seattle/5209-33rd-Ave-...    1  0.043649\n",
       "http://www.redfin.com/WA/Seattle/3512-NE-134th-...    1  0.043649\n",
       "http://www.redfin.com/WA/Seattle/7752-36th-Ave-...    1  0.043649\n",
       "http://www.redfin.com/WA/Seattle/9308-46th-Ave-...    1  0.043649\n",
       "\n",
       "[2252 rows x 2 columns]"
      ]
     },
     "metadata": {},
     "output_type": "display_data"
    }
   ],
   "source": [
    "ob_col = sold.select_dtypes(include = 'object').columns\n",
    "for col in ob_col:\n",
    "    display(pd.DataFrame({col: sold[col].value_counts(),\"Ratio\": 100 * sold[col].value_counts() / len(sold)})) "
   ]
  },
  {
   "cell_type": "code",
   "execution_count": 15,
   "metadata": {},
   "outputs": [],
   "source": [
    "sold.drop(['SALETYPE','PROPERTY TYPE','ADDRESS','STATE','URL'],axis=1,inplace=True)\n",
    "onsale.drop(['PROPERTY TYPE','ADDRESS','STATE'],axis=1,inplace=True)"
   ]
  },
  {
   "cell_type": "code",
   "execution_count": 16,
   "metadata": {},
   "outputs": [],
   "source": [
    "from sklearn.preprocessing import LabelEncoder\n",
    "labelencoder = LabelEncoder()\n",
    "sold[\"CITY\"] = labelencoder.fit_transform(sold[\"CITY\"])\n",
    "onsale[\"CITY\"] = labelencoder.fit_transform(onsale[\"CITY\"])"
   ]
  },
  {
   "cell_type": "markdown",
   "metadata": {},
   "source": [
    "To predict house sale price, I try to find the most relevant explanatory variables. From the person correlation table of sold dataset, I checked the PRICE column’s score with other independent features and sorted it. "
   ]
  },
  {
   "cell_type": "code",
   "execution_count": 17,
   "metadata": {
    "scrolled": false
   },
   "outputs": [
    {
     "data": {
      "text/html": [
       "<style  type=\"text/css\" >\n",
       "#T_baad73f9_a54d_11eb_bd2a_482ae34990c0row0_col0,#T_baad73f9_a54d_11eb_bd2a_482ae34990c0row1_col1,#T_baad73f9_a54d_11eb_bd2a_482ae34990c0row2_col2,#T_baad73f9_a54d_11eb_bd2a_482ae34990c0row3_col3,#T_baad73f9_a54d_11eb_bd2a_482ae34990c0row4_col4,#T_baad73f9_a54d_11eb_bd2a_482ae34990c0row5_col5,#T_baad73f9_a54d_11eb_bd2a_482ae34990c0row6_col6,#T_baad73f9_a54d_11eb_bd2a_482ae34990c0row7_col7,#T_baad73f9_a54d_11eb_bd2a_482ae34990c0row8_col8,#T_baad73f9_a54d_11eb_bd2a_482ae34990c0row9_col9,#T_baad73f9_a54d_11eb_bd2a_482ae34990c0row10_col10,#T_baad73f9_a54d_11eb_bd2a_482ae34990c0row11_col11,#T_baad73f9_a54d_11eb_bd2a_482ae34990c0row12_col12{\n",
       "            background-color:  #b40426;\n",
       "            color:  #f1f1f1;\n",
       "        }#T_baad73f9_a54d_11eb_bd2a_482ae34990c0row0_col1,#T_baad73f9_a54d_11eb_bd2a_482ae34990c0row1_col0,#T_baad73f9_a54d_11eb_bd2a_482ae34990c0row1_col10,#T_baad73f9_a54d_11eb_bd2a_482ae34990c0row3_col8,#T_baad73f9_a54d_11eb_bd2a_482ae34990c0row7_col12,#T_baad73f9_a54d_11eb_bd2a_482ae34990c0row8_col3,#T_baad73f9_a54d_11eb_bd2a_482ae34990c0row8_col10,#T_baad73f9_a54d_11eb_bd2a_482ae34990c0row10_col1,#T_baad73f9_a54d_11eb_bd2a_482ae34990c0row10_col8,#T_baad73f9_a54d_11eb_bd2a_482ae34990c0row12_col7{\n",
       "            background-color:  #9bbcff;\n",
       "            color:  #000000;\n",
       "        }#T_baad73f9_a54d_11eb_bd2a_482ae34990c0row0_col2,#T_baad73f9_a54d_11eb_bd2a_482ae34990c0row0_col7,#T_baad73f9_a54d_11eb_bd2a_482ae34990c0row2_col0,#T_baad73f9_a54d_11eb_bd2a_482ae34990c0row2_col6,#T_baad73f9_a54d_11eb_bd2a_482ae34990c0row4_col8,#T_baad73f9_a54d_11eb_bd2a_482ae34990c0row4_col12,#T_baad73f9_a54d_11eb_bd2a_482ae34990c0row6_col2,#T_baad73f9_a54d_11eb_bd2a_482ae34990c0row7_col0,#T_baad73f9_a54d_11eb_bd2a_482ae34990c0row7_col8,#T_baad73f9_a54d_11eb_bd2a_482ae34990c0row8_col4,#T_baad73f9_a54d_11eb_bd2a_482ae34990c0row8_col7,#T_baad73f9_a54d_11eb_bd2a_482ae34990c0row12_col4{\n",
       "            background-color:  #98b9ff;\n",
       "            color:  #000000;\n",
       "        }#T_baad73f9_a54d_11eb_bd2a_482ae34990c0row0_col3,#T_baad73f9_a54d_11eb_bd2a_482ae34990c0row1_col11,#T_baad73f9_a54d_11eb_bd2a_482ae34990c0row3_col0,#T_baad73f9_a54d_11eb_bd2a_482ae34990c0row11_col1{\n",
       "            background-color:  #92b4fe;\n",
       "            color:  #000000;\n",
       "        }#T_baad73f9_a54d_11eb_bd2a_482ae34990c0row0_col4,#T_baad73f9_a54d_11eb_bd2a_482ae34990c0row4_col0,#T_baad73f9_a54d_11eb_bd2a_482ae34990c0row4_col6,#T_baad73f9_a54d_11eb_bd2a_482ae34990c0row6_col4{\n",
       "            background-color:  #94b6ff;\n",
       "            color:  #000000;\n",
       "        }#T_baad73f9_a54d_11eb_bd2a_482ae34990c0row0_col5,#T_baad73f9_a54d_11eb_bd2a_482ae34990c0row5_col0,#T_baad73f9_a54d_11eb_bd2a_482ae34990c0row5_col12,#T_baad73f9_a54d_11eb_bd2a_482ae34990c0row10_col11,#T_baad73f9_a54d_11eb_bd2a_482ae34990c0row11_col10,#T_baad73f9_a54d_11eb_bd2a_482ae34990c0row12_col5{\n",
       "            background-color:  #93b5fe;\n",
       "            color:  #000000;\n",
       "        }#T_baad73f9_a54d_11eb_bd2a_482ae34990c0row0_col6,#T_baad73f9_a54d_11eb_bd2a_482ae34990c0row6_col0{\n",
       "            background-color:  #88abfd;\n",
       "            color:  #000000;\n",
       "        }#T_baad73f9_a54d_11eb_bd2a_482ae34990c0row0_col8,#T_baad73f9_a54d_11eb_bd2a_482ae34990c0row1_col6,#T_baad73f9_a54d_11eb_bd2a_482ae34990c0row5_col6,#T_baad73f9_a54d_11eb_bd2a_482ae34990c0row6_col1,#T_baad73f9_a54d_11eb_bd2a_482ae34990c0row6_col5,#T_baad73f9_a54d_11eb_bd2a_482ae34990c0row8_col0{\n",
       "            background-color:  #a9c6fd;\n",
       "            color:  #000000;\n",
       "        }#T_baad73f9_a54d_11eb_bd2a_482ae34990c0row0_col9,#T_baad73f9_a54d_11eb_bd2a_482ae34990c0row1_col12,#T_baad73f9_a54d_11eb_bd2a_482ae34990c0row9_col0,#T_baad73f9_a54d_11eb_bd2a_482ae34990c0row12_col1{\n",
       "            background-color:  #a2c1ff;\n",
       "            color:  #000000;\n",
       "        }#T_baad73f9_a54d_11eb_bd2a_482ae34990c0row0_col10,#T_baad73f9_a54d_11eb_bd2a_482ae34990c0row10_col0{\n",
       "            background-color:  #97b8ff;\n",
       "            color:  #000000;\n",
       "        }#T_baad73f9_a54d_11eb_bd2a_482ae34990c0row0_col11,#T_baad73f9_a54d_11eb_bd2a_482ae34990c0row1_col5,#T_baad73f9_a54d_11eb_bd2a_482ae34990c0row3_col12,#T_baad73f9_a54d_11eb_bd2a_482ae34990c0row5_col1,#T_baad73f9_a54d_11eb_bd2a_482ae34990c0row6_col8,#T_baad73f9_a54d_11eb_bd2a_482ae34990c0row8_col6,#T_baad73f9_a54d_11eb_bd2a_482ae34990c0row11_col0,#T_baad73f9_a54d_11eb_bd2a_482ae34990c0row12_col3{\n",
       "            background-color:  #a3c2fe;\n",
       "            color:  #000000;\n",
       "        }#T_baad73f9_a54d_11eb_bd2a_482ae34990c0row0_col12,#T_baad73f9_a54d_11eb_bd2a_482ae34990c0row2_col10,#T_baad73f9_a54d_11eb_bd2a_482ae34990c0row3_col11,#T_baad73f9_a54d_11eb_bd2a_482ae34990c0row10_col2,#T_baad73f9_a54d_11eb_bd2a_482ae34990c0row11_col3,#T_baad73f9_a54d_11eb_bd2a_482ae34990c0row12_col0{\n",
       "            background-color:  #9ebeff;\n",
       "            color:  #000000;\n",
       "        }#T_baad73f9_a54d_11eb_bd2a_482ae34990c0row1_col2,#T_baad73f9_a54d_11eb_bd2a_482ae34990c0row2_col1,#T_baad73f9_a54d_11eb_bd2a_482ae34990c0row5_col8,#T_baad73f9_a54d_11eb_bd2a_482ae34990c0row7_col11,#T_baad73f9_a54d_11eb_bd2a_482ae34990c0row8_col5,#T_baad73f9_a54d_11eb_bd2a_482ae34990c0row11_col7{\n",
       "            background-color:  #9abbff;\n",
       "            color:  #000000;\n",
       "        }#T_baad73f9_a54d_11eb_bd2a_482ae34990c0row1_col3,#T_baad73f9_a54d_11eb_bd2a_482ae34990c0row3_col1,#T_baad73f9_a54d_11eb_bd2a_482ae34990c0row3_col6,#T_baad73f9_a54d_11eb_bd2a_482ae34990c0row6_col3,#T_baad73f9_a54d_11eb_bd2a_482ae34990c0row8_col11,#T_baad73f9_a54d_11eb_bd2a_482ae34990c0row10_col12,#T_baad73f9_a54d_11eb_bd2a_482ae34990c0row11_col8,#T_baad73f9_a54d_11eb_bd2a_482ae34990c0row12_col10{\n",
       "            background-color:  #a5c3fe;\n",
       "            color:  #000000;\n",
       "        }#T_baad73f9_a54d_11eb_bd2a_482ae34990c0row1_col4,#T_baad73f9_a54d_11eb_bd2a_482ae34990c0row1_col7,#T_baad73f9_a54d_11eb_bd2a_482ae34990c0row1_col8,#T_baad73f9_a54d_11eb_bd2a_482ae34990c0row4_col1,#T_baad73f9_a54d_11eb_bd2a_482ae34990c0row7_col1,#T_baad73f9_a54d_11eb_bd2a_482ae34990c0row8_col1{\n",
       "            background-color:  #9fbfff;\n",
       "            color:  #000000;\n",
       "        }#T_baad73f9_a54d_11eb_bd2a_482ae34990c0row1_col9,#T_baad73f9_a54d_11eb_bd2a_482ae34990c0row9_col1{\n",
       "            background-color:  #8caffe;\n",
       "            color:  #000000;\n",
       "        }#T_baad73f9_a54d_11eb_bd2a_482ae34990c0row2_col3,#T_baad73f9_a54d_11eb_bd2a_482ae34990c0row3_col2{\n",
       "            background-color:  #f7ac8e;\n",
       "            color:  #000000;\n",
       "        }#T_baad73f9_a54d_11eb_bd2a_482ae34990c0row2_col4,#T_baad73f9_a54d_11eb_bd2a_482ae34990c0row4_col2{\n",
       "            background-color:  #ef886b;\n",
       "            color:  #000000;\n",
       "        }#T_baad73f9_a54d_11eb_bd2a_482ae34990c0row2_col5,#T_baad73f9_a54d_11eb_bd2a_482ae34990c0row5_col2{\n",
       "            background-color:  #dc5d4a;\n",
       "            color:  #000000;\n",
       "        }#T_baad73f9_a54d_11eb_bd2a_482ae34990c0row2_col7,#T_baad73f9_a54d_11eb_bd2a_482ae34990c0row7_col2{\n",
       "            background-color:  #f7af91;\n",
       "            color:  #000000;\n",
       "        }#T_baad73f9_a54d_11eb_bd2a_482ae34990c0row2_col8,#T_baad73f9_a54d_11eb_bd2a_482ae34990c0row8_col2,#T_baad73f9_a54d_11eb_bd2a_482ae34990c0row8_col9,#T_baad73f9_a54d_11eb_bd2a_482ae34990c0row9_col8{\n",
       "            background-color:  #96b7ff;\n",
       "            color:  #000000;\n",
       "        }#T_baad73f9_a54d_11eb_bd2a_482ae34990c0row2_col9,#T_baad73f9_a54d_11eb_bd2a_482ae34990c0row9_col2{\n",
       "            background-color:  #bcd2f7;\n",
       "            color:  #000000;\n",
       "        }#T_baad73f9_a54d_11eb_bd2a_482ae34990c0row2_col11,#T_baad73f9_a54d_11eb_bd2a_482ae34990c0row11_col2{\n",
       "            background-color:  #dcdddd;\n",
       "            color:  #000000;\n",
       "        }#T_baad73f9_a54d_11eb_bd2a_482ae34990c0row2_col12,#T_baad73f9_a54d_11eb_bd2a_482ae34990c0row12_col2{\n",
       "            background-color:  #7a9df8;\n",
       "            color:  #000000;\n",
       "        }#T_baad73f9_a54d_11eb_bd2a_482ae34990c0row3_col4,#T_baad73f9_a54d_11eb_bd2a_482ae34990c0row4_col3{\n",
       "            background-color:  #e97a5f;\n",
       "            color:  #000000;\n",
       "        }#T_baad73f9_a54d_11eb_bd2a_482ae34990c0row3_col5,#T_baad73f9_a54d_11eb_bd2a_482ae34990c0row5_col3{\n",
       "            background-color:  #e46e56;\n",
       "            color:  #000000;\n",
       "        }#T_baad73f9_a54d_11eb_bd2a_482ae34990c0row3_col7,#T_baad73f9_a54d_11eb_bd2a_482ae34990c0row7_col3{\n",
       "            background-color:  #f5a081;\n",
       "            color:  #000000;\n",
       "        }#T_baad73f9_a54d_11eb_bd2a_482ae34990c0row3_col9,#T_baad73f9_a54d_11eb_bd2a_482ae34990c0row9_col3{\n",
       "            background-color:  #3b4cc0;\n",
       "            color:  #f1f1f1;\n",
       "        }#T_baad73f9_a54d_11eb_bd2a_482ae34990c0row3_col10,#T_baad73f9_a54d_11eb_bd2a_482ae34990c0row10_col3{\n",
       "            background-color:  #a7c5fe;\n",
       "            color:  #000000;\n",
       "        }#T_baad73f9_a54d_11eb_bd2a_482ae34990c0row4_col5,#T_baad73f9_a54d_11eb_bd2a_482ae34990c0row5_col4{\n",
       "            background-color:  #d95847;\n",
       "            color:  #000000;\n",
       "        }#T_baad73f9_a54d_11eb_bd2a_482ae34990c0row4_col7,#T_baad73f9_a54d_11eb_bd2a_482ae34990c0row7_col4{\n",
       "            background-color:  #e7745b;\n",
       "            color:  #000000;\n",
       "        }#T_baad73f9_a54d_11eb_bd2a_482ae34990c0row4_col9,#T_baad73f9_a54d_11eb_bd2a_482ae34990c0row9_col4{\n",
       "            background-color:  #4e68d8;\n",
       "            color:  #000000;\n",
       "        }#T_baad73f9_a54d_11eb_bd2a_482ae34990c0row4_col10,#T_baad73f9_a54d_11eb_bd2a_482ae34990c0row10_col4{\n",
       "            background-color:  #b3cdfb;\n",
       "            color:  #000000;\n",
       "        }#T_baad73f9_a54d_11eb_bd2a_482ae34990c0row4_col11,#T_baad73f9_a54d_11eb_bd2a_482ae34990c0row11_col4{\n",
       "            background-color:  #a6c4fe;\n",
       "            color:  #000000;\n",
       "        }#T_baad73f9_a54d_11eb_bd2a_482ae34990c0row5_col7,#T_baad73f9_a54d_11eb_bd2a_482ae34990c0row7_col5{\n",
       "            background-color:  #f08b6e;\n",
       "            color:  #000000;\n",
       "        }#T_baad73f9_a54d_11eb_bd2a_482ae34990c0row5_col9,#T_baad73f9_a54d_11eb_bd2a_482ae34990c0row9_col5{\n",
       "            background-color:  #445acc;\n",
       "            color:  #f1f1f1;\n",
       "        }#T_baad73f9_a54d_11eb_bd2a_482ae34990c0row5_col10,#T_baad73f9_a54d_11eb_bd2a_482ae34990c0row10_col5{\n",
       "            background-color:  #abc8fd;\n",
       "            color:  #000000;\n",
       "        }#T_baad73f9_a54d_11eb_bd2a_482ae34990c0row5_col11,#T_baad73f9_a54d_11eb_bd2a_482ae34990c0row6_col12,#T_baad73f9_a54d_11eb_bd2a_482ae34990c0row11_col5,#T_baad73f9_a54d_11eb_bd2a_482ae34990c0row12_col6{\n",
       "            background-color:  #b1cbfc;\n",
       "            color:  #000000;\n",
       "        }#T_baad73f9_a54d_11eb_bd2a_482ae34990c0row6_col7,#T_baad73f9_a54d_11eb_bd2a_482ae34990c0row6_col9,#T_baad73f9_a54d_11eb_bd2a_482ae34990c0row7_col6,#T_baad73f9_a54d_11eb_bd2a_482ae34990c0row9_col6,#T_baad73f9_a54d_11eb_bd2a_482ae34990c0row9_col10,#T_baad73f9_a54d_11eb_bd2a_482ae34990c0row10_col9{\n",
       "            background-color:  #8badfd;\n",
       "            color:  #000000;\n",
       "        }#T_baad73f9_a54d_11eb_bd2a_482ae34990c0row6_col10,#T_baad73f9_a54d_11eb_bd2a_482ae34990c0row10_col6{\n",
       "            background-color:  #e5d8d1;\n",
       "            color:  #000000;\n",
       "        }#T_baad73f9_a54d_11eb_bd2a_482ae34990c0row6_col11,#T_baad73f9_a54d_11eb_bd2a_482ae34990c0row8_col12,#T_baad73f9_a54d_11eb_bd2a_482ae34990c0row11_col6,#T_baad73f9_a54d_11eb_bd2a_482ae34990c0row12_col8{\n",
       "            background-color:  #90b2fe;\n",
       "            color:  #000000;\n",
       "        }#T_baad73f9_a54d_11eb_bd2a_482ae34990c0row7_col9,#T_baad73f9_a54d_11eb_bd2a_482ae34990c0row9_col7{\n",
       "            background-color:  #5470de;\n",
       "            color:  #000000;\n",
       "        }#T_baad73f9_a54d_11eb_bd2a_482ae34990c0row7_col10,#T_baad73f9_a54d_11eb_bd2a_482ae34990c0row10_col7{\n",
       "            background-color:  #b9d0f9;\n",
       "            color:  #000000;\n",
       "        }#T_baad73f9_a54d_11eb_bd2a_482ae34990c0row9_col11,#T_baad73f9_a54d_11eb_bd2a_482ae34990c0row11_col9{\n",
       "            background-color:  #e1dad6;\n",
       "            color:  #000000;\n",
       "        }#T_baad73f9_a54d_11eb_bd2a_482ae34990c0row9_col12,#T_baad73f9_a54d_11eb_bd2a_482ae34990c0row12_col9{\n",
       "            background-color:  #7597f6;\n",
       "            color:  #000000;\n",
       "        }#T_baad73f9_a54d_11eb_bd2a_482ae34990c0row11_col12,#T_baad73f9_a54d_11eb_bd2a_482ae34990c0row12_col11{\n",
       "            background-color:  #81a4fb;\n",
       "            color:  #000000;\n",
       "        }</style><table id=\"T_baad73f9_a54d_11eb_bd2a_482ae34990c0\" ><thead>    <tr>        <th class=\"blank level0\" ></th>        <th class=\"col_heading level0 col0\" >CITY</th>        <th class=\"col_heading level0 col1\" >ZIPCODE</th>        <th class=\"col_heading level0 col2\" >PRICE</th>        <th class=\"col_heading level0 col3\" >BEDS</th>        <th class=\"col_heading level0 col4\" >BATHS</th>        <th class=\"col_heading level0 col5\" >SQFT</th>        <th class=\"col_heading level0 col6\" >LOTSIZE</th>        <th class=\"col_heading level0 col7\" >YEARBUILT</th>        <th class=\"col_heading level0 col8\" >DAYSONMARKET</th>        <th class=\"col_heading level0 col9\" >PPSQFT</th>        <th class=\"col_heading level0 col10\" >HOA</th>        <th class=\"col_heading level0 col11\" >LATITUDE</th>        <th class=\"col_heading level0 col12\" >LONGITUDE</th>    </tr></thead><tbody>\n",
       "                <tr>\n",
       "                        <th id=\"T_baad73f9_a54d_11eb_bd2a_482ae34990c0level0_row0\" class=\"row_heading level0 row0\" >CITY</th>\n",
       "                        <td id=\"T_baad73f9_a54d_11eb_bd2a_482ae34990c0row0_col0\" class=\"data row0 col0\" >1.000000</td>\n",
       "                        <td id=\"T_baad73f9_a54d_11eb_bd2a_482ae34990c0row0_col1\" class=\"data row0 col1\" >-0.008435</td>\n",
       "                        <td id=\"T_baad73f9_a54d_11eb_bd2a_482ae34990c0row0_col2\" class=\"data row0 col2\" >-0.024062</td>\n",
       "                        <td id=\"T_baad73f9_a54d_11eb_bd2a_482ae34990c0row0_col3\" class=\"data row0 col3\" >-0.049493</td>\n",
       "                        <td id=\"T_baad73f9_a54d_11eb_bd2a_482ae34990c0row0_col4\" class=\"data row0 col4\" >-0.037077</td>\n",
       "                        <td id=\"T_baad73f9_a54d_11eb_bd2a_482ae34990c0row0_col5\" class=\"data row0 col5\" >-0.043891</td>\n",
       "                        <td id=\"T_baad73f9_a54d_11eb_bd2a_482ae34990c0row0_col6\" class=\"data row0 col6\" >-0.089315</td>\n",
       "                        <td id=\"T_baad73f9_a54d_11eb_bd2a_482ae34990c0row0_col7\" class=\"data row0 col7\" >-0.024272</td>\n",
       "                        <td id=\"T_baad73f9_a54d_11eb_bd2a_482ae34990c0row0_col8\" class=\"data row0 col8\" >0.046549</td>\n",
       "                        <td id=\"T_baad73f9_a54d_11eb_bd2a_482ae34990c0row0_col9\" class=\"data row0 col9\" >0.017618</td>\n",
       "                        <td id=\"T_baad73f9_a54d_11eb_bd2a_482ae34990c0row0_col10\" class=\"data row0 col10\" >-0.026890</td>\n",
       "                        <td id=\"T_baad73f9_a54d_11eb_bd2a_482ae34990c0row0_col11\" class=\"data row0 col11\" >0.021201</td>\n",
       "                        <td id=\"T_baad73f9_a54d_11eb_bd2a_482ae34990c0row0_col12\" class=\"data row0 col12\" >0.000075</td>\n",
       "            </tr>\n",
       "            <tr>\n",
       "                        <th id=\"T_baad73f9_a54d_11eb_bd2a_482ae34990c0level0_row1\" class=\"row_heading level0 row1\" >ZIPCODE</th>\n",
       "                        <td id=\"T_baad73f9_a54d_11eb_bd2a_482ae34990c0row1_col0\" class=\"data row1 col0\" >-0.008435</td>\n",
       "                        <td id=\"T_baad73f9_a54d_11eb_bd2a_482ae34990c0row1_col1\" class=\"data row1 col1\" >1.000000</td>\n",
       "                        <td id=\"T_baad73f9_a54d_11eb_bd2a_482ae34990c0row1_col2\" class=\"data row1 col2\" >-0.015413</td>\n",
       "                        <td id=\"T_baad73f9_a54d_11eb_bd2a_482ae34990c0row1_col3\" class=\"data row1 col3\" >0.028429</td>\n",
       "                        <td id=\"T_baad73f9_a54d_11eb_bd2a_482ae34990c0row1_col4\" class=\"data row1 col4\" >0.006209</td>\n",
       "                        <td id=\"T_baad73f9_a54d_11eb_bd2a_482ae34990c0row1_col5\" class=\"data row1 col5\" >0.024467</td>\n",
       "                        <td id=\"T_baad73f9_a54d_11eb_bd2a_482ae34990c0row1_col6\" class=\"data row1 col6\" >0.044454</td>\n",
       "                        <td id=\"T_baad73f9_a54d_11eb_bd2a_482ae34990c0row1_col7\" class=\"data row1 col7\" >0.007863</td>\n",
       "                        <td id=\"T_baad73f9_a54d_11eb_bd2a_482ae34990c0row1_col8\" class=\"data row1 col8\" >0.004435</td>\n",
       "                        <td id=\"T_baad73f9_a54d_11eb_bd2a_482ae34990c0row1_col9\" class=\"data row1 col9\" >-0.070945</td>\n",
       "                        <td id=\"T_baad73f9_a54d_11eb_bd2a_482ae34990c0row1_col10\" class=\"data row1 col10\" >-0.012255</td>\n",
       "                        <td id=\"T_baad73f9_a54d_11eb_bd2a_482ae34990c0row1_col11\" class=\"data row1 col11\" >-0.049017</td>\n",
       "                        <td id=\"T_baad73f9_a54d_11eb_bd2a_482ae34990c0row1_col12\" class=\"data row1 col12\" >0.017644</td>\n",
       "            </tr>\n",
       "            <tr>\n",
       "                        <th id=\"T_baad73f9_a54d_11eb_bd2a_482ae34990c0level0_row2\" class=\"row_heading level0 row2\" >PRICE</th>\n",
       "                        <td id=\"T_baad73f9_a54d_11eb_bd2a_482ae34990c0row2_col0\" class=\"data row2 col0\" >-0.024062</td>\n",
       "                        <td id=\"T_baad73f9_a54d_11eb_bd2a_482ae34990c0row2_col1\" class=\"data row2 col1\" >-0.015413</td>\n",
       "                        <td id=\"T_baad73f9_a54d_11eb_bd2a_482ae34990c0row2_col2\" class=\"data row2 col2\" >1.000000</td>\n",
       "                        <td id=\"T_baad73f9_a54d_11eb_bd2a_482ae34990c0row2_col3\" class=\"data row2 col3\" >0.575083</td>\n",
       "                        <td id=\"T_baad73f9_a54d_11eb_bd2a_482ae34990c0row2_col4\" class=\"data row2 col4\" >0.700609</td>\n",
       "                        <td id=\"T_baad73f9_a54d_11eb_bd2a_482ae34990c0row2_col5\" class=\"data row2 col5\" >0.827488</td>\n",
       "                        <td id=\"T_baad73f9_a54d_11eb_bd2a_482ae34990c0row2_col6\" class=\"data row2 col6\" >-0.020025</td>\n",
       "                        <td id=\"T_baad73f9_a54d_11eb_bd2a_482ae34990c0row2_col7\" class=\"data row2 col7\" >0.565113</td>\n",
       "                        <td id=\"T_baad73f9_a54d_11eb_bd2a_482ae34990c0row2_col8\" class=\"data row2 col8\" >-0.030235</td>\n",
       "                        <td id=\"T_baad73f9_a54d_11eb_bd2a_482ae34990c0row2_col9\" class=\"data row2 col9\" >0.128365</td>\n",
       "                        <td id=\"T_baad73f9_a54d_11eb_bd2a_482ae34990c0row2_col10\" class=\"data row2 col10\" >0.000182</td>\n",
       "                        <td id=\"T_baad73f9_a54d_11eb_bd2a_482ae34990c0row2_col11\" class=\"data row2 col11\" >0.285801</td>\n",
       "                        <td id=\"T_baad73f9_a54d_11eb_bd2a_482ae34990c0row2_col12\" class=\"data row2 col12\" >-0.144755</td>\n",
       "            </tr>\n",
       "            <tr>\n",
       "                        <th id=\"T_baad73f9_a54d_11eb_bd2a_482ae34990c0level0_row3\" class=\"row_heading level0 row3\" >BEDS</th>\n",
       "                        <td id=\"T_baad73f9_a54d_11eb_bd2a_482ae34990c0row3_col0\" class=\"data row3 col0\" >-0.049493</td>\n",
       "                        <td id=\"T_baad73f9_a54d_11eb_bd2a_482ae34990c0row3_col1\" class=\"data row3 col1\" >0.028429</td>\n",
       "                        <td id=\"T_baad73f9_a54d_11eb_bd2a_482ae34990c0row3_col2\" class=\"data row3 col2\" >0.575083</td>\n",
       "                        <td id=\"T_baad73f9_a54d_11eb_bd2a_482ae34990c0row3_col3\" class=\"data row3 col3\" >1.000000</td>\n",
       "                        <td id=\"T_baad73f9_a54d_11eb_bd2a_482ae34990c0row3_col4\" class=\"data row3 col4\" >0.746899</td>\n",
       "                        <td id=\"T_baad73f9_a54d_11eb_bd2a_482ae34990c0row3_col5\" class=\"data row3 col5\" >0.782129</td>\n",
       "                        <td id=\"T_baad73f9_a54d_11eb_bd2a_482ae34990c0row3_col6\" class=\"data row3 col6\" >0.029206</td>\n",
       "                        <td id=\"T_baad73f9_a54d_11eb_bd2a_482ae34990c0row3_col7\" class=\"data row3 col7\" >0.619488</td>\n",
       "                        <td id=\"T_baad73f9_a54d_11eb_bd2a_482ae34990c0row3_col8\" class=\"data row3 col8\" >-0.007933</td>\n",
       "                        <td id=\"T_baad73f9_a54d_11eb_bd2a_482ae34990c0row3_col9\" class=\"data row3 col9\" >-0.425305</td>\n",
       "                        <td id=\"T_baad73f9_a54d_11eb_bd2a_482ae34990c0row3_col10\" class=\"data row3 col10\" >0.041846</td>\n",
       "                        <td id=\"T_baad73f9_a54d_11eb_bd2a_482ae34990c0row3_col11\" class=\"data row3 col11\" >-0.000796</td>\n",
       "                        <td id=\"T_baad73f9_a54d_11eb_bd2a_482ae34990c0row3_col12\" class=\"data row3 col12\" >0.024424</td>\n",
       "            </tr>\n",
       "            <tr>\n",
       "                        <th id=\"T_baad73f9_a54d_11eb_bd2a_482ae34990c0level0_row4\" class=\"row_heading level0 row4\" >BATHS</th>\n",
       "                        <td id=\"T_baad73f9_a54d_11eb_bd2a_482ae34990c0row4_col0\" class=\"data row4 col0\" >-0.037077</td>\n",
       "                        <td id=\"T_baad73f9_a54d_11eb_bd2a_482ae34990c0row4_col1\" class=\"data row4 col1\" >0.006209</td>\n",
       "                        <td id=\"T_baad73f9_a54d_11eb_bd2a_482ae34990c0row4_col2\" class=\"data row4 col2\" >0.700609</td>\n",
       "                        <td id=\"T_baad73f9_a54d_11eb_bd2a_482ae34990c0row4_col3\" class=\"data row4 col3\" >0.746899</td>\n",
       "                        <td id=\"T_baad73f9_a54d_11eb_bd2a_482ae34990c0row4_col4\" class=\"data row4 col4\" >1.000000</td>\n",
       "                        <td id=\"T_baad73f9_a54d_11eb_bd2a_482ae34990c0row4_col5\" class=\"data row4 col5\" >0.842572</td>\n",
       "                        <td id=\"T_baad73f9_a54d_11eb_bd2a_482ae34990c0row4_col6\" class=\"data row4 col6\" >-0.036264</td>\n",
       "                        <td id=\"T_baad73f9_a54d_11eb_bd2a_482ae34990c0row4_col7\" class=\"data row4 col7\" >0.764062</td>\n",
       "                        <td id=\"T_baad73f9_a54d_11eb_bd2a_482ae34990c0row4_col8\" class=\"data row4 col8\" >-0.019259</td>\n",
       "                        <td id=\"T_baad73f9_a54d_11eb_bd2a_482ae34990c0row4_col9\" class=\"data row4 col9\" >-0.332091</td>\n",
       "                        <td id=\"T_baad73f9_a54d_11eb_bd2a_482ae34990c0row4_col10\" class=\"data row4 col10\" >0.092195</td>\n",
       "                        <td id=\"T_baad73f9_a54d_11eb_bd2a_482ae34990c0row4_col11\" class=\"data row4 col11\" >0.036342</td>\n",
       "                        <td id=\"T_baad73f9_a54d_11eb_bd2a_482ae34990c0row4_col12\" class=\"data row4 col12\" >-0.021036</td>\n",
       "            </tr>\n",
       "            <tr>\n",
       "                        <th id=\"T_baad73f9_a54d_11eb_bd2a_482ae34990c0level0_row5\" class=\"row_heading level0 row5\" >SQFT</th>\n",
       "                        <td id=\"T_baad73f9_a54d_11eb_bd2a_482ae34990c0row5_col0\" class=\"data row5 col0\" >-0.043891</td>\n",
       "                        <td id=\"T_baad73f9_a54d_11eb_bd2a_482ae34990c0row5_col1\" class=\"data row5 col1\" >0.024467</td>\n",
       "                        <td id=\"T_baad73f9_a54d_11eb_bd2a_482ae34990c0row5_col2\" class=\"data row5 col2\" >0.827488</td>\n",
       "                        <td id=\"T_baad73f9_a54d_11eb_bd2a_482ae34990c0row5_col3\" class=\"data row5 col3\" >0.782129</td>\n",
       "                        <td id=\"T_baad73f9_a54d_11eb_bd2a_482ae34990c0row5_col4\" class=\"data row5 col4\" >0.842572</td>\n",
       "                        <td id=\"T_baad73f9_a54d_11eb_bd2a_482ae34990c0row5_col5\" class=\"data row5 col5\" >1.000000</td>\n",
       "                        <td id=\"T_baad73f9_a54d_11eb_bd2a_482ae34990c0row5_col6\" class=\"data row5 col6\" >0.042753</td>\n",
       "                        <td id=\"T_baad73f9_a54d_11eb_bd2a_482ae34990c0row5_col7\" class=\"data row5 col7\" >0.692051</td>\n",
       "                        <td id=\"T_baad73f9_a54d_11eb_bd2a_482ae34990c0row5_col8\" class=\"data row5 col8\" >-0.014733</td>\n",
       "                        <td id=\"T_baad73f9_a54d_11eb_bd2a_482ae34990c0row5_col9\" class=\"data row5 col9\" >-0.375998</td>\n",
       "                        <td id=\"T_baad73f9_a54d_11eb_bd2a_482ae34990c0row5_col10\" class=\"data row5 col10\" >0.055284</td>\n",
       "                        <td id=\"T_baad73f9_a54d_11eb_bd2a_482ae34990c0row5_col11\" class=\"data row5 col11\" >0.079045</td>\n",
       "                        <td id=\"T_baad73f9_a54d_11eb_bd2a_482ae34990c0row5_col12\" class=\"data row5 col12\" >-0.042439</td>\n",
       "            </tr>\n",
       "            <tr>\n",
       "                        <th id=\"T_baad73f9_a54d_11eb_bd2a_482ae34990c0level0_row6\" class=\"row_heading level0 row6\" >LOTSIZE</th>\n",
       "                        <td id=\"T_baad73f9_a54d_11eb_bd2a_482ae34990c0row6_col0\" class=\"data row6 col0\" >-0.089315</td>\n",
       "                        <td id=\"T_baad73f9_a54d_11eb_bd2a_482ae34990c0row6_col1\" class=\"data row6 col1\" >0.044454</td>\n",
       "                        <td id=\"T_baad73f9_a54d_11eb_bd2a_482ae34990c0row6_col2\" class=\"data row6 col2\" >-0.020025</td>\n",
       "                        <td id=\"T_baad73f9_a54d_11eb_bd2a_482ae34990c0row6_col3\" class=\"data row6 col3\" >0.029206</td>\n",
       "                        <td id=\"T_baad73f9_a54d_11eb_bd2a_482ae34990c0row6_col4\" class=\"data row6 col4\" >-0.036264</td>\n",
       "                        <td id=\"T_baad73f9_a54d_11eb_bd2a_482ae34990c0row6_col5\" class=\"data row6 col5\" >0.042753</td>\n",
       "                        <td id=\"T_baad73f9_a54d_11eb_bd2a_482ae34990c0row6_col6\" class=\"data row6 col6\" >1.000000</td>\n",
       "                        <td id=\"T_baad73f9_a54d_11eb_bd2a_482ae34990c0row6_col7\" class=\"data row6 col7\" >-0.075517</td>\n",
       "                        <td id=\"T_baad73f9_a54d_11eb_bd2a_482ae34990c0row6_col8\" class=\"data row6 col8\" >0.022788</td>\n",
       "                        <td id=\"T_baad73f9_a54d_11eb_bd2a_482ae34990c0row6_col9\" class=\"data row6 col9\" >-0.078718</td>\n",
       "                        <td id=\"T_baad73f9_a54d_11eb_bd2a_482ae34990c0row6_col10\" class=\"data row6 col10\" >0.336011</td>\n",
       "                        <td id=\"T_baad73f9_a54d_11eb_bd2a_482ae34990c0row6_col11\" class=\"data row6 col11\" >-0.054753</td>\n",
       "                        <td id=\"T_baad73f9_a54d_11eb_bd2a_482ae34990c0row6_col12\" class=\"data row6 col12\" >0.076676</td>\n",
       "            </tr>\n",
       "            <tr>\n",
       "                        <th id=\"T_baad73f9_a54d_11eb_bd2a_482ae34990c0level0_row7\" class=\"row_heading level0 row7\" >YEARBUILT</th>\n",
       "                        <td id=\"T_baad73f9_a54d_11eb_bd2a_482ae34990c0row7_col0\" class=\"data row7 col0\" >-0.024272</td>\n",
       "                        <td id=\"T_baad73f9_a54d_11eb_bd2a_482ae34990c0row7_col1\" class=\"data row7 col1\" >0.007863</td>\n",
       "                        <td id=\"T_baad73f9_a54d_11eb_bd2a_482ae34990c0row7_col2\" class=\"data row7 col2\" >0.565113</td>\n",
       "                        <td id=\"T_baad73f9_a54d_11eb_bd2a_482ae34990c0row7_col3\" class=\"data row7 col3\" >0.619488</td>\n",
       "                        <td id=\"T_baad73f9_a54d_11eb_bd2a_482ae34990c0row7_col4\" class=\"data row7 col4\" >0.764062</td>\n",
       "                        <td id=\"T_baad73f9_a54d_11eb_bd2a_482ae34990c0row7_col5\" class=\"data row7 col5\" >0.692051</td>\n",
       "                        <td id=\"T_baad73f9_a54d_11eb_bd2a_482ae34990c0row7_col6\" class=\"data row7 col6\" >-0.075517</td>\n",
       "                        <td id=\"T_baad73f9_a54d_11eb_bd2a_482ae34990c0row7_col7\" class=\"data row7 col7\" >1.000000</td>\n",
       "                        <td id=\"T_baad73f9_a54d_11eb_bd2a_482ae34990c0row7_col8\" class=\"data row7 col8\" >-0.019499</td>\n",
       "                        <td id=\"T_baad73f9_a54d_11eb_bd2a_482ae34990c0row7_col9\" class=\"data row7 col9\" >-0.306351</td>\n",
       "                        <td id=\"T_baad73f9_a54d_11eb_bd2a_482ae34990c0row7_col10\" class=\"data row7 col10\" >0.111275</td>\n",
       "                        <td id=\"T_baad73f9_a54d_11eb_bd2a_482ae34990c0row7_col11\" class=\"data row7 col11\" >-0.015026</td>\n",
       "                        <td id=\"T_baad73f9_a54d_11eb_bd2a_482ae34990c0row7_col12\" class=\"data row7 col12\" >-0.011745</td>\n",
       "            </tr>\n",
       "            <tr>\n",
       "                        <th id=\"T_baad73f9_a54d_11eb_bd2a_482ae34990c0level0_row8\" class=\"row_heading level0 row8\" >DAYSONMARKET</th>\n",
       "                        <td id=\"T_baad73f9_a54d_11eb_bd2a_482ae34990c0row8_col0\" class=\"data row8 col0\" >0.046549</td>\n",
       "                        <td id=\"T_baad73f9_a54d_11eb_bd2a_482ae34990c0row8_col1\" class=\"data row8 col1\" >0.004435</td>\n",
       "                        <td id=\"T_baad73f9_a54d_11eb_bd2a_482ae34990c0row8_col2\" class=\"data row8 col2\" >-0.030235</td>\n",
       "                        <td id=\"T_baad73f9_a54d_11eb_bd2a_482ae34990c0row8_col3\" class=\"data row8 col3\" >-0.007933</td>\n",
       "                        <td id=\"T_baad73f9_a54d_11eb_bd2a_482ae34990c0row8_col4\" class=\"data row8 col4\" >-0.019259</td>\n",
       "                        <td id=\"T_baad73f9_a54d_11eb_bd2a_482ae34990c0row8_col5\" class=\"data row8 col5\" >-0.014733</td>\n",
       "                        <td id=\"T_baad73f9_a54d_11eb_bd2a_482ae34990c0row8_col6\" class=\"data row8 col6\" >0.022788</td>\n",
       "                        <td id=\"T_baad73f9_a54d_11eb_bd2a_482ae34990c0row8_col7\" class=\"data row8 col7\" >-0.019499</td>\n",
       "                        <td id=\"T_baad73f9_a54d_11eb_bd2a_482ae34990c0row8_col8\" class=\"data row8 col8\" >1.000000</td>\n",
       "                        <td id=\"T_baad73f9_a54d_11eb_bd2a_482ae34990c0row8_col9\" class=\"data row8 col9\" >-0.033359</td>\n",
       "                        <td id=\"T_baad73f9_a54d_11eb_bd2a_482ae34990c0row8_col10\" class=\"data row8 col10\" >-0.012227</td>\n",
       "                        <td id=\"T_baad73f9_a54d_11eb_bd2a_482ae34990c0row8_col11\" class=\"data row8 col11\" >0.026404</td>\n",
       "                        <td id=\"T_baad73f9_a54d_11eb_bd2a_482ae34990c0row8_col12\" class=\"data row8 col12\" >-0.054421</td>\n",
       "            </tr>\n",
       "            <tr>\n",
       "                        <th id=\"T_baad73f9_a54d_11eb_bd2a_482ae34990c0level0_row9\" class=\"row_heading level0 row9\" >PPSQFT</th>\n",
       "                        <td id=\"T_baad73f9_a54d_11eb_bd2a_482ae34990c0row9_col0\" class=\"data row9 col0\" >0.017618</td>\n",
       "                        <td id=\"T_baad73f9_a54d_11eb_bd2a_482ae34990c0row9_col1\" class=\"data row9 col1\" >-0.070945</td>\n",
       "                        <td id=\"T_baad73f9_a54d_11eb_bd2a_482ae34990c0row9_col2\" class=\"data row9 col2\" >0.128365</td>\n",
       "                        <td id=\"T_baad73f9_a54d_11eb_bd2a_482ae34990c0row9_col3\" class=\"data row9 col3\" >-0.425305</td>\n",
       "                        <td id=\"T_baad73f9_a54d_11eb_bd2a_482ae34990c0row9_col4\" class=\"data row9 col4\" >-0.332091</td>\n",
       "                        <td id=\"T_baad73f9_a54d_11eb_bd2a_482ae34990c0row9_col5\" class=\"data row9 col5\" >-0.375998</td>\n",
       "                        <td id=\"T_baad73f9_a54d_11eb_bd2a_482ae34990c0row9_col6\" class=\"data row9 col6\" >-0.078718</td>\n",
       "                        <td id=\"T_baad73f9_a54d_11eb_bd2a_482ae34990c0row9_col7\" class=\"data row9 col7\" >-0.306351</td>\n",
       "                        <td id=\"T_baad73f9_a54d_11eb_bd2a_482ae34990c0row9_col8\" class=\"data row9 col8\" >-0.033359</td>\n",
       "                        <td id=\"T_baad73f9_a54d_11eb_bd2a_482ae34990c0row9_col9\" class=\"data row9 col9\" >1.000000</td>\n",
       "                        <td id=\"T_baad73f9_a54d_11eb_bd2a_482ae34990c0row9_col10\" class=\"data row9 col10\" >-0.075755</td>\n",
       "                        <td id=\"T_baad73f9_a54d_11eb_bd2a_482ae34990c0row9_col11\" class=\"data row9 col11\" >0.312187</td>\n",
       "                        <td id=\"T_baad73f9_a54d_11eb_bd2a_482ae34990c0row9_col12\" class=\"data row9 col12\" >-0.163708</td>\n",
       "            </tr>\n",
       "            <tr>\n",
       "                        <th id=\"T_baad73f9_a54d_11eb_bd2a_482ae34990c0level0_row10\" class=\"row_heading level0 row10\" >HOA</th>\n",
       "                        <td id=\"T_baad73f9_a54d_11eb_bd2a_482ae34990c0row10_col0\" class=\"data row10 col0\" >-0.026890</td>\n",
       "                        <td id=\"T_baad73f9_a54d_11eb_bd2a_482ae34990c0row10_col1\" class=\"data row10 col1\" >-0.012255</td>\n",
       "                        <td id=\"T_baad73f9_a54d_11eb_bd2a_482ae34990c0row10_col2\" class=\"data row10 col2\" >0.000182</td>\n",
       "                        <td id=\"T_baad73f9_a54d_11eb_bd2a_482ae34990c0row10_col3\" class=\"data row10 col3\" >0.041846</td>\n",
       "                        <td id=\"T_baad73f9_a54d_11eb_bd2a_482ae34990c0row10_col4\" class=\"data row10 col4\" >0.092195</td>\n",
       "                        <td id=\"T_baad73f9_a54d_11eb_bd2a_482ae34990c0row10_col5\" class=\"data row10 col5\" >0.055284</td>\n",
       "                        <td id=\"T_baad73f9_a54d_11eb_bd2a_482ae34990c0row10_col6\" class=\"data row10 col6\" >0.336011</td>\n",
       "                        <td id=\"T_baad73f9_a54d_11eb_bd2a_482ae34990c0row10_col7\" class=\"data row10 col7\" >0.111275</td>\n",
       "                        <td id=\"T_baad73f9_a54d_11eb_bd2a_482ae34990c0row10_col8\" class=\"data row10 col8\" >-0.012227</td>\n",
       "                        <td id=\"T_baad73f9_a54d_11eb_bd2a_482ae34990c0row10_col9\" class=\"data row10 col9\" >-0.075755</td>\n",
       "                        <td id=\"T_baad73f9_a54d_11eb_bd2a_482ae34990c0row10_col10\" class=\"data row10 col10\" >1.000000</td>\n",
       "                        <td id=\"T_baad73f9_a54d_11eb_bd2a_482ae34990c0row10_col11\" class=\"data row10 col11\" >-0.042631</td>\n",
       "                        <td id=\"T_baad73f9_a54d_11eb_bd2a_482ae34990c0row10_col12\" class=\"data row10 col12\" >0.026635</td>\n",
       "            </tr>\n",
       "            <tr>\n",
       "                        <th id=\"T_baad73f9_a54d_11eb_bd2a_482ae34990c0level0_row11\" class=\"row_heading level0 row11\" >LATITUDE</th>\n",
       "                        <td id=\"T_baad73f9_a54d_11eb_bd2a_482ae34990c0row11_col0\" class=\"data row11 col0\" >0.021201</td>\n",
       "                        <td id=\"T_baad73f9_a54d_11eb_bd2a_482ae34990c0row11_col1\" class=\"data row11 col1\" >-0.049017</td>\n",
       "                        <td id=\"T_baad73f9_a54d_11eb_bd2a_482ae34990c0row11_col2\" class=\"data row11 col2\" >0.285801</td>\n",
       "                        <td id=\"T_baad73f9_a54d_11eb_bd2a_482ae34990c0row11_col3\" class=\"data row11 col3\" >-0.000796</td>\n",
       "                        <td id=\"T_baad73f9_a54d_11eb_bd2a_482ae34990c0row11_col4\" class=\"data row11 col4\" >0.036342</td>\n",
       "                        <td id=\"T_baad73f9_a54d_11eb_bd2a_482ae34990c0row11_col5\" class=\"data row11 col5\" >0.079045</td>\n",
       "                        <td id=\"T_baad73f9_a54d_11eb_bd2a_482ae34990c0row11_col6\" class=\"data row11 col6\" >-0.054753</td>\n",
       "                        <td id=\"T_baad73f9_a54d_11eb_bd2a_482ae34990c0row11_col7\" class=\"data row11 col7\" >-0.015026</td>\n",
       "                        <td id=\"T_baad73f9_a54d_11eb_bd2a_482ae34990c0row11_col8\" class=\"data row11 col8\" >0.026404</td>\n",
       "                        <td id=\"T_baad73f9_a54d_11eb_bd2a_482ae34990c0row11_col9\" class=\"data row11 col9\" >0.312187</td>\n",
       "                        <td id=\"T_baad73f9_a54d_11eb_bd2a_482ae34990c0row11_col10\" class=\"data row11 col10\" >-0.042631</td>\n",
       "                        <td id=\"T_baad73f9_a54d_11eb_bd2a_482ae34990c0row11_col11\" class=\"data row11 col11\" >1.000000</td>\n",
       "                        <td id=\"T_baad73f9_a54d_11eb_bd2a_482ae34990c0row11_col12\" class=\"data row11 col12\" >-0.117398</td>\n",
       "            </tr>\n",
       "            <tr>\n",
       "                        <th id=\"T_baad73f9_a54d_11eb_bd2a_482ae34990c0level0_row12\" class=\"row_heading level0 row12\" >LONGITUDE</th>\n",
       "                        <td id=\"T_baad73f9_a54d_11eb_bd2a_482ae34990c0row12_col0\" class=\"data row12 col0\" >0.000075</td>\n",
       "                        <td id=\"T_baad73f9_a54d_11eb_bd2a_482ae34990c0row12_col1\" class=\"data row12 col1\" >0.017644</td>\n",
       "                        <td id=\"T_baad73f9_a54d_11eb_bd2a_482ae34990c0row12_col2\" class=\"data row12 col2\" >-0.144755</td>\n",
       "                        <td id=\"T_baad73f9_a54d_11eb_bd2a_482ae34990c0row12_col3\" class=\"data row12 col3\" >0.024424</td>\n",
       "                        <td id=\"T_baad73f9_a54d_11eb_bd2a_482ae34990c0row12_col4\" class=\"data row12 col4\" >-0.021036</td>\n",
       "                        <td id=\"T_baad73f9_a54d_11eb_bd2a_482ae34990c0row12_col5\" class=\"data row12 col5\" >-0.042439</td>\n",
       "                        <td id=\"T_baad73f9_a54d_11eb_bd2a_482ae34990c0row12_col6\" class=\"data row12 col6\" >0.076676</td>\n",
       "                        <td id=\"T_baad73f9_a54d_11eb_bd2a_482ae34990c0row12_col7\" class=\"data row12 col7\" >-0.011745</td>\n",
       "                        <td id=\"T_baad73f9_a54d_11eb_bd2a_482ae34990c0row12_col8\" class=\"data row12 col8\" >-0.054421</td>\n",
       "                        <td id=\"T_baad73f9_a54d_11eb_bd2a_482ae34990c0row12_col9\" class=\"data row12 col9\" >-0.163708</td>\n",
       "                        <td id=\"T_baad73f9_a54d_11eb_bd2a_482ae34990c0row12_col10\" class=\"data row12 col10\" >0.026635</td>\n",
       "                        <td id=\"T_baad73f9_a54d_11eb_bd2a_482ae34990c0row12_col11\" class=\"data row12 col11\" >-0.117398</td>\n",
       "                        <td id=\"T_baad73f9_a54d_11eb_bd2a_482ae34990c0row12_col12\" class=\"data row12 col12\" >1.000000</td>\n",
       "            </tr>\n",
       "    </tbody></table>"
      ],
      "text/plain": [
       "<pandas.io.formats.style.Styler at 0x1d3807c8940>"
      ]
     },
     "execution_count": 17,
     "metadata": {},
     "output_type": "execute_result"
    }
   ],
   "source": [
    "sold_corr = sold.corr()\n",
    "sold_corr\n",
    "sold_corr.style.background_gradient(cmap='coolwarm', axis=None)"
   ]
  },
  {
   "cell_type": "code",
   "execution_count": 18,
   "metadata": {},
   "outputs": [
    {
     "data": {
      "text/plain": [
       "<Figure size 1440x720 with 0 Axes>"
      ]
     },
     "metadata": {},
     "output_type": "display_data"
    },
    {
     "data": {
      "image/png": "[encoded data removed]",
      "text/plain": [
       "<Figure size 720x720 with 4 Axes>"
      ]
     },
     "metadata": {
      "needs_background": "light"
     },
     "output_type": "display_data"
    }
   ],
   "source": [
    "plt.figure(figsize=(20,10))\n",
    "sns.clustermap(sold_corr,annot = True)\n",
    "plt.show();"
   ]
  },
  {
   "cell_type": "markdown",
   "metadata": {},
   "source": [
    "From the sort values result, I chose the most 4 strongest relations with target ‘PRICE’ which are 'SQFT','BATHS','BEDS','YEARBUILT'. I conjected the signs of these coefficients are all positive."
   ]
  },
  {
   "cell_type": "code",
   "execution_count": 19,
   "metadata": {},
   "outputs": [
    {
     "data": {
      "text/plain": [
       "PRICE           1.000000\n",
       "SQFT            0.827488\n",
       "BATHS           0.700609\n",
       "BEDS            0.575083\n",
       "YEARBUILT       0.565113\n",
       "LATITUDE        0.285801\n",
       "PPSQFT          0.128365\n",
       "HOA             0.000182\n",
       "ZIPCODE        -0.015413\n",
       "LOTSIZE        -0.020025\n",
       "CITY           -0.024062\n",
       "DAYSONMARKET   -0.030235\n",
       "LONGITUDE      -0.144755\n",
       "Name: PRICE, dtype: float64"
      ]
     },
     "execution_count": 19,
     "metadata": {},
     "output_type": "execute_result"
    }
   ],
   "source": [
    "sold_corr['PRICE'].sort_values(ascending=False)"
   ]
  },
  {
   "cell_type": "code",
   "execution_count": 20,
   "metadata": {},
   "outputs": [],
   "source": [
    "features = ['SQFT','BATHS','BEDS','YEARBUILT']"
   ]
  },
  {
   "cell_type": "markdown",
   "metadata": {},
   "source": [
    "After Mapping and exploring the sold house data. I found spatial patterns in PRICE and $/SQUARE FEET.  To be specifically, I used ArcGIS Online to map the spatial patterns in PRICE and SQET and found the patterns of PRICE and SQUARE FEET are similar in the middle of the statex, which are higher and bigger around Capitol Hill."
   ]
  },
  {
   "cell_type": "code",
   "execution_count": 21,
   "metadata": {},
   "outputs": [
    {
     "data": {
      "image/png": "[encoded data removed]",
      "text/plain": [
       "<Figure size 720x720 with 1 Axes>"
      ]
     },
     "metadata": {
      "needs_background": "light"
     },
     "output_type": "display_data"
    }
   ],
   "source": [
    "# load seattle shape\n",
    "city = gpd.read_file('border/Municipal_Boundaries.shp')\n",
    "water = gpd.read_file('border/City_of_Seattle_Shoreline.shp')\n",
    "zip_codes_gdf = gpd.read_file('border/Zip_Codes.shp')\n",
    "seattle = city.loc[city['CITYNAME'] == 'Seattle']\n",
    "seattle = seattle.reset_index()\n",
    "seattle_shp = seattle.loc[0, 'geometry']\n",
    "seattle_zips = zip_codes_gdf.intersection(seattle_shp)\n",
    "\n",
    "fig, ax = plt.subplots(figsize=(10,10))\n",
    "water.plot(ax=ax, color='black')\n",
    "seattle_zips.plot(ax=ax, cmap='Paired', alpha=.8, edgecolor='gray')\n",
    "seattle.plot(ax=ax, color='#00000000', edgecolor='black', linewidth=2);"
   ]
  },
  {
   "cell_type": "code",
   "execution_count": 22,
   "metadata": {},
   "outputs": [
    {
     "data": {
      "image/png": "[encoded data removed]",
      "text/plain": [
       "<Figure size 720x720 with 2 Axes>"
      ]
     },
     "metadata": {
      "needs_background": "light"
     },
     "output_type": "display_data"
    }
   ],
   "source": [
    "zip_codes_gdf = zip_codes_gdf.drop('ZIPCODE',axis=1)\n",
    "zip_codes_gdf = zip_codes_gdf.rename(columns={'ZIP':'ZIPCODE'})\n",
    "sold_zip = zip_codes_gdf.merge(sold, on='ZIPCODE')\n",
    "from mpl_toolkits.axes_grid1 import make_axes_locatable\n",
    "\n",
    "fig, ax = plt.subplots(figsize=(10,10))\n",
    "divider = make_axes_locatable(ax)\n",
    "cax = divider.append_axes(\"right\", size=\"5%\", pad=0.1)\n",
    "water.plot(ax=ax, color='black')\n",
    "sold_zip.plot(column='PRICE', ax=ax, \n",
    "                      legend=True, cax=cax);"
   ]
  },
  {
   "cell_type": "markdown",
   "metadata": {},
   "source": [
    "## V. Methodology \n",
    "\n",
    "**(1) Linear Regression Model**\n",
    "\n",
    "I developed a linear regression model as baseline to predict house sale price based on the sold house dataset (sea_sold.csv). My explanatory variables are SQFT, BATHS, BEDS and YEARBUILT. From the result below, we can see 70% target can be successfully predicted by our explanatory variables."
   ]
  },
  {
   "cell_type": "code",
   "execution_count": 23,
   "metadata": {},
   "outputs": [
    {
     "name": "stdout",
     "output_type": "stream",
     "text": [
      "                            OLS Regression Results                            \n",
      "==============================================================================\n",
      "Dep. Variable:                      y   R-squared:                       0.700\n",
      "Model:                            OLS   Adj. R-squared:                  0.699\n",
      "Method:                 Least Squares   F-statistic:                     1331.\n",
      "Date:                Sat, 24 Apr 2021   Prob (F-statistic):               0.00\n",
      "Time:                        15:38:17   Log-Likelihood:                -31253.\n",
      "No. Observations:                2291   AIC:                         6.252e+04\n",
      "Df Residuals:                    2286   BIC:                         6.254e+04\n",
      "Df Model:                           4                                         \n",
      "Covariance Type:            nonrobust                                         \n",
      "==============================================================================\n",
      "                 coef    std err          t      P>|t|      [0.025      0.975]\n",
      "------------------------------------------------------------------------------\n",
      "const       4.935e+05   3.32e+05      1.485      0.138   -1.58e+05    1.15e+06\n",
      "x1           399.9992     10.219     39.141      0.000     379.959     420.039\n",
      "x2          3.308e+04   1.01e+04      3.267      0.001    1.32e+04    5.29e+04\n",
      "x3         -7.785e+04   7379.132    -10.551      0.000   -9.23e+04   -6.34e+04\n",
      "x4          -117.8336    174.447     -0.675      0.499    -459.925     224.258\n",
      "==============================================================================\n",
      "Omnibus:                      306.750   Durbin-Watson:                   1.739\n",
      "Prob(Omnibus):                  0.000   Jarque-Bera (JB):             1388.890\n",
      "Skew:                           0.567   Prob(JB):                    2.55e-302\n",
      "Kurtosis:                       6.642   Cond. No.                     2.11e+05\n",
      "==============================================================================\n",
      "\n",
      "Notes:\n",
      "[1] Standard Errors assume that the covariance matrix of the errors is correctly specified.\n",
      "[2] The condition number is large, 2.11e+05. This might indicate that there are\n",
      "strong multicollinearity or other numerical problems.\n"
     ]
    }
   ],
   "source": [
    "x = sold[features].values\n",
    "y = sold['PRICE'].values\n",
    "X = sm.add_constant(x)\n",
    "results = sm.OLS(y, X).fit()\n",
    "print(results.summary())"
   ]
  },
  {
   "cell_type": "code",
   "execution_count": 24,
   "metadata": {},
   "outputs": [],
   "source": [
    "results_as_html = results.summary().tables[0].as_html()\n",
    "pd.read_html(results_as_html, header=0, index_col=0)[0].to_excel('output1.xlsx')\n",
    "results_as_html = results.summary().tables[1].as_html()\n",
    "pd.read_html(results_as_html, header=0, index_col=0)[0].to_excel('output2.xlsx')\n",
    "results_as_html = results.summary().tables[2].as_html()\n",
    "pd.read_html(results_as_html, header=0, index_col=0)[0].to_excel('output3.xlsx')"
   ]
  },
  {
   "cell_type": "code",
   "execution_count": 25,
   "metadata": {},
   "outputs": [],
   "source": [
    "sold['ols_residuals'] = results.resid\n",
    "sold.to_csv('ols_residuals.csv')"
   ]
  },
  {
   "cell_type": "markdown",
   "metadata": {},
   "source": [
    "I also visualized the residuals on the map and noticed spatial patterns of the residuals. The higher residuals concentrate some areas. But for south west area the predictions are not so accurate.\n"
   ]
  },
  {
   "cell_type": "markdown",
   "metadata": {},
   "source": [
    "**(2) Geographically Weighted Regression (GWR) Model**\n",
    "\n",
    "I Built a Geographically Weighted Regression (GWR) model with the same explanatory variables as in the previous step, based on the sold house dataset (sea_sold.csv). I chose bis-square since other in kernels all observations retain non-zero weight, regardless of how far they are from the calibration location. The default kernel is to use a bi-square kernel. 89% of target can be explained by features which is much better than the OLS regression. Moreover, comparing the Regression above, features have different importance. "
   ]
  },
  {
   "cell_type": "code",
   "execution_count": 26,
   "metadata": {},
   "outputs": [],
   "source": [
    "df = sold.copy()\n",
    "g_y = df['PRICE'].values.reshape((-1,1))\n",
    "g_X = df[features].values\n",
    "u = df['LONGITUDE']\n",
    "v = df['LATITUDE']\n",
    "g_coords = list(zip(u,v))\n",
    "g1_X = (g_X - g_X.mean(axis=0)) / g_X.std(axis=0)\n",
    "g_y = g_y.reshape((-1,1))\n",
    "g1_y = (g_y - g_y.mean(axis=0)) / g_y.std(axis=0)"
   ]
  },
  {
   "cell_type": "code",
   "execution_count": 27,
   "metadata": {},
   "outputs": [
    {
     "name": "stdout",
     "output_type": "stream",
     "text": [
      "85.0\n"
     ]
    }
   ],
   "source": [
    "# Select a bandwidth\n",
    "gwr_selector = Sel_BW(g_coords, g1_y, g1_X)\n",
    "gwr_bw = gwr_selector.search(bw_min=2)\n",
    "print(gwr_bw)"
   ]
  },
  {
   "cell_type": "code",
   "execution_count": 28,
   "metadata": {},
   "outputs": [],
   "source": [
    "# Fit the model\n",
    "gwr_model = GWR(g_coords, g1_y, g1_X, gwr_bw)\n",
    "gwr_results = gwr_model.fit()"
   ]
  },
  {
   "cell_type": "code",
   "execution_count": 29,
   "metadata": {
    "scrolled": false
   },
   "outputs": [
    {
     "name": "stdout",
     "output_type": "stream",
     "text": [
      "===========================================================================\n",
      "Model type                                                         Gaussian\n",
      "Number of observations:                                                2291\n",
      "Number of covariates:                                                     5\n",
      "\n",
      "Global Regression Results\n",
      "---------------------------------------------------------------------------\n",
      "Residual sum of squares:                                            688.143\n",
      "Log-likelihood:                                                   -1873.041\n",
      "AIC:                                                               3756.082\n",
      "AICc:                                                              3758.119\n",
      "BIC:                                                             -16998.053\n",
      "R2:                                                                   0.700\n",
      "Adj. R2:                                                              0.699\n",
      "\n",
      "Variable                              Est.         SE  t(Est/SE)    p-value\n",
      "------------------------------- ---------- ---------- ---------- ----------\n",
      "X0                                  -0.000      0.011     -0.000      1.000\n",
      "X1                                   0.926      0.024     39.141      0.000\n",
      "X2                                   0.080      0.025      3.267      0.001\n",
      "X3                                  -0.201      0.019    -10.551      0.000\n",
      "X4                                  -0.012      0.018     -0.675      0.499\n",
      "\n",
      "Geographically Weighted Regression (GWR) Results\n",
      "---------------------------------------------------------------------------\n",
      "Spatial kernel:                                           Adaptive bisquare\n",
      "Bandwidth used:                                                      85.000\n",
      "\n",
      "Diagnostic information\n",
      "---------------------------------------------------------------------------\n",
      "Residual sum of squares:                                            212.172\n",
      "Effective number of parameters (trace(S)):                          337.132\n",
      "Degree of freedom (n - trace(S)):                                  1953.868\n",
      "Sigma estimate:                                                       0.330\n",
      "Log-likelihood:                                                    -525.249\n",
      "AIC:                                                               1726.763\n",
      "AICc:                                                              1844.262\n",
      "BIC:                                                               3666.540\n",
      "R2:                                                                   0.907\n",
      "Adjusted R2:                                                          0.891\n",
      "Adj. alpha (95%):                                                     0.001\n",
      "Adj. critical t value (95%):                                          3.378\n",
      "\n",
      "Summary Statistics For GWR Parameter Estimates\n",
      "---------------------------------------------------------------------------\n",
      "Variable                   Mean        STD        Min     Median        Max\n",
      "-------------------- ---------- ---------- ---------- ---------- ----------\n",
      "X0                       -0.030      0.400     -0.858     -0.049      0.814\n",
      "X1                        0.674      0.201      0.212      0.673      1.259\n",
      "X2                        0.033      0.161     -0.718      0.044      0.567\n",
      "X3                       -0.023      0.092     -0.441     -0.021      0.244\n",
      "X4                        0.057      0.142     -0.354      0.042      0.788\n",
      "===========================================================================\n",
      "\n"
     ]
    }
   ],
   "source": [
    "gwr_results.summary()"
   ]
  },
  {
   "cell_type": "markdown",
   "metadata": {},
   "source": [
    "___________________"
   ]
  },
  {
   "cell_type": "markdown",
   "metadata": {},
   "source": [
    "I also visualized the local R2 and estimated coefficients on map. The patterns of R2 and residual are similar distribution. In the south, SQFT and BATHS pattern are similar while in the middle of state are different. The patterns of BEDS and YEARBUILT are similar except in the center of the WA state. So far GWR modelled relationships between sqft_living and price with a line. A unit increase in house’s size corresponds to an increase in house price."
   ]
  },
  {
   "cell_type": "code",
   "execution_count": 30,
   "metadata": {},
   "outputs": [],
   "source": [
    "#!pip install arcgis"
   ]
  },
  {
   "cell_type": "code",
   "execution_count": 31,
   "metadata": {
    "scrolled": false
   },
   "outputs": [
    {
     "data": {
      "application/vnd.jupyter.widget-view+json": {
       "model_id": "e70fce5694624addbe3113c7ed8a7792",
       "version_major": 2,
       "version_minor": 0
      },
      "text/plain": [
       "MapView(layout=Layout(height='400px', width='100%'))"
      ]
     },
     "metadata": {},
     "output_type": "display_data"
    },
    {
     "data": {
      "text/html": [
       "<div class=\"map-static-img-preview-f73e6fd6-a4b9-42aa-8271-84d45bafe5c8\"><img src=\"\"></img></div>"
      ],
      "text/plain": [
       "<IPython.core.display.HTML object>"
      ]
     },
     "metadata": {},
     "output_type": "display_data"
    },
    {
     "data": {
      "text/html": [
       "<div class=\"map-html-embed-preview-f73e6fd6-a4b9-42aa-8271-84d45bafe5c8\"></div>"
      ],
      "text/plain": [
       "<IPython.core.display.HTML object>"
      ]
     },
     "metadata": {},
     "output_type": "display_data"
    }
   ],
   "source": [
    "from arcgis.features import GeoAccessor, GeoSeriesAccessor\n",
    "from arcgis.features import FeatureLayer\n",
    "df = pd.DataFrame.spatial.from_xy(df=sold, x_column=\"LONGITUDE\",y_column=\"LATITUDE\", sr=4326)\n",
    "df['LocalR2'] = gwr_results.localR2\n",
    "df.spatial.plot(renderer_type='c', method='esriClassifyNaturalBreaks', class_count=20, col='LocalR2')"
   ]
  },
  {
   "cell_type": "code",
   "execution_count": 32,
   "metadata": {},
   "outputs": [
    {
     "data": {
      "application/vnd.jupyter.widget-view+json": {
       "model_id": "a0533b11cbb64c99a7a1f34490868efa",
       "version_major": 2,
       "version_minor": 0
      },
      "text/plain": [
       "MapView(layout=Layout(height='400px', width='100%'))"
      ]
     },
     "metadata": {},
     "output_type": "display_data"
    },
    {
     "data": {
      "text/html": [
       "<div class=\"map-static-img-preview-872674d6-2d0a-4eaa-9a92-8497d3176442\"><img src=\"\"></img></div>"
      ],
      "text/plain": [
       "<IPython.core.display.HTML object>"
      ]
     },
     "metadata": {},
     "output_type": "display_data"
    },
    {
     "data": {
      "text/html": [
       "<div class=\"map-html-embed-preview-872674d6-2d0a-4eaa-9a92-8497d3176442\"></div>"
      ],
      "text/plain": [
       "<IPython.core.display.HTML object>"
      ]
     },
     "metadata": {},
     "output_type": "display_data"
    }
   ],
   "source": [
    "df['X0'] = gwr_results.params[:,0]\n",
    "df.spatial.plot(renderer_type='c', method='esriClassifyNaturalBreaks', class_count=20, col='X0')"
   ]
  },
  {
   "cell_type": "code",
   "execution_count": null,
   "metadata": {},
   "outputs": [],
   "source": [
    "df['X1'] = gwr_results.params[:,1]\n",
    "df.spatial.plot(renderer_type='c', method='esriClassifyNaturalBreaks', class_count=20, col='X1')"
   ]
  },
  {
   "cell_type": "code",
   "execution_count": null,
   "metadata": {
    "scrolled": false
   },
   "outputs": [],
   "source": [
    "df['X2'] = gwr_results.params[:,2]\n",
    "df.spatial.plot(renderer_type='c', method='esriClassifyNaturalBreaks', class_count=20, col='X2')"
   ]
  },
  {
   "cell_type": "code",
   "execution_count": null,
   "metadata": {},
   "outputs": [],
   "source": [
    "df['X3'] = gwr_results.params[:,3]\n",
    "df.spatial.plot(renderer_type='c', method='esriClassifyNaturalBreaks', class_count=20, col='X3')"
   ]
  },
  {
   "cell_type": "markdown",
   "metadata": {},
   "source": [
    "___________________"
   ]
  },
  {
   "cell_type": "markdown",
   "metadata": {},
   "source": [
    "**(3) RandomForest Regression**\n",
    "\n",
    "Random Forest Regression model is not affected by multicollinearity, because it is not a linear model, and it can model relationships between a vast number of predictor variables (spatial and non-spatial property characteristics) and a target variable (sale price). The model performance for testing set RMSE is 200441.18, R2 score is 0.71 which is worse than GWR model and better than OLS model. The most important feature is SQFT, the least important one is BEDS."
   ]
  },
  {
   "cell_type": "code",
   "execution_count": null,
   "metadata": {},
   "outputs": [],
   "source": [
    "from sklearn.model_selection import train_test_split\n",
    "from sklearn.ensemble import RandomForestRegressor\n",
    "\n",
    "X = df[features]\n",
    "y = df['PRICE']\n",
    "X_train, X_test, y_train, y_test = train_test_split(X,y,test_size = 0.2,random_state=5)\n",
    "\n",
    "from sklearn.metrics import mean_squared_error,r2_score\n",
    "rf = RandomForestRegressor()\n",
    "rf.fit(X_train,y_train)\n",
    "y_test_predict = rf.predict(X_test)\n",
    "rmse = (np.sqrt(mean_squared_error(y_test,y_test_predict)))\n",
    "r2 = r2_score(y_test,y_test_predict)\n",
    "print('The model performance for testing set')\n",
    "print('\\n RMSE is {}'.format(rmse))\n",
    "print('\\n R2 score is {}'.format(r2))"
   ]
  },
  {
   "cell_type": "code",
   "execution_count": null,
   "metadata": {},
   "outputs": [],
   "source": [
    "def feature_importance(model, trainData, display_n_rows):\n",
    "    \"\"\"Display feature importance & weighting for Regression based model\"\"\"\n",
    "    fi = model.feature_importances_* 100\n",
    "    feat_imp = pd.DataFrame(list(zip(fi,trainData.columns.values)))\n",
    "    feat_imp = feat_imp.sort_values(by=0, axis=0, ascending=False)\n",
    "    feat_imp.columns = ['importance %', 'feature']\n",
    "    return feat_imp\n",
    "feature_importance(rf, X_train, 30)"
   ]
  },
  {
   "cell_type": "code",
   "execution_count": null,
   "metadata": {},
   "outputs": [],
   "source": [
    "feature_importance(rf, X_train, 30).set_index('feature').plot.bar()\n",
    "plt.title('Feature Importance with respect to RandomForestRegressor')\n",
    "plt.show()"
   ]
  },
  {
   "cell_type": "markdown",
   "metadata": {},
   "source": [
    "**(4) Predict by using the best model**"
   ]
  },
  {
   "cell_type": "code",
   "execution_count": null,
   "metadata": {},
   "outputs": [],
   "source": [
    "pred0_X = onsale[features].values  \n",
    "u0 = onsale['LONGITUDE'] \n",
    "v0 = onsale['LATITUDE'] \n",
    "\n",
    "pred_coords = np.array(list(zip(u0,v0)))\n",
    "\n",
    "pred1_X = (pred0_X - g_X.mean(axis=0)) / g_X.std(axis=0)\n",
    "pred_results = gwr_model.predict(pred_coords, pred1_X)\n",
    "pred_results.predictions "
   ]
  },
  {
   "cell_type": "code",
   "execution_count": null,
   "metadata": {},
   "outputs": [],
   "source": [
    "pred_y = pred_results.predictions * g_y.std(axis=0) + g_y.mean(axis=0)\n",
    "pred_y "
   ]
  },
  {
   "cell_type": "code",
   "execution_count": null,
   "metadata": {},
   "outputs": [],
   "source": [
    "onsale['predict'] = pred_y\n",
    "onsale.to_csv('result.csv')"
   ]
  },
  {
   "cell_type": "markdown",
   "metadata": {},
   "source": [
    "Finally, I plot the time-series of PRICE and $/SQUARE FEET of the data in sea_sold.csv. Both of PRICE and SQFT time series are not stational and if we want to predict the price by time series models (ARIMA etc.) in the future, we should make them stational by First Difference or Seasonal Adjustment or Seasonal Difference or by using all the method above until it becomes stational."
   ]
  },
  {
   "cell_type": "code",
   "execution_count": null,
   "metadata": {},
   "outputs": [],
   "source": [
    "dfnew = sold[['SOLDDATE','PRICE','SQFT']].set_index('SOLDDATE')\n",
    "dfnew.head()"
   ]
  },
  {
   "cell_type": "code",
   "execution_count": null,
   "metadata": {},
   "outputs": [],
   "source": [
    "dfnew['PRICE'].plot()\n",
    "plt.title('PRICE VS DATE');"
   ]
  },
  {
   "cell_type": "code",
   "execution_count": null,
   "metadata": {},
   "outputs": [],
   "source": [
    "from statsmodels.tsa.stattools import adfuller   #Dickey-Fuller test\n",
    "def test_stationarity(timeseries):\n",
    "    rolmean = timeseries.rolling(12).mean()\n",
    "    rolstd = timeseries.rolling(12).std()\n",
    "    print('Results of Dickey-Fuller Test:')\n",
    "    dftest = adfuller(timeseries, autolag='AIC')  \n",
    "    dfoutput = pd.Series(dftest[0:4], index=['Test Statistic','p-value','#Lags Used','Number of Observations Used'])\n",
    "    for key,value in dftest[4].items():\n",
    "        dfoutput['Critical Value (%s)'%key] = value\n",
    "    print(dfoutput)\n",
    "test_stationarity(dfnew['PRICE'])"
   ]
  },
  {
   "cell_type": "code",
   "execution_count": null,
   "metadata": {},
   "outputs": [],
   "source": [
    "dfnew['SQFT'].plot()\n",
    "plt.title('SQFT VS DATE');"
   ]
  },
  {
   "cell_type": "code",
   "execution_count": null,
   "metadata": {},
   "outputs": [],
   "source": [
    "test_stationarity(dfnew['SQFT'])"
   ]
  },
  {
   "cell_type": "markdown",
   "metadata": {},
   "source": [
    "## VI. Conclusion and Limitation\n",
    "\n",
    "Visualization is a vital part of regression analysis to understand important variables and to explore relationships between variables. Then I used Python and ArcGIS to try to tell the spatial patterns. We can see the obvious patterns from map.\n",
    "\n",
    "When comparing OLS, Forest-Based Regression and the GWR models, GWR model has better performance. GWR defines a linear model that varies from location to location, so is better suited to capture spatial variations in relation to price, where the predicted house price is reasonable for the \t. \n",
    "\n",
    "GWR solves a linear regression model at every location where predictor variables from nearby neighbours are weighted with a spatial kernel, with near neighbours having more impact on the regression model than distant neighbours. GWR coefficient surfaces are also an effective means to visualize spatial variation of relationship between an explanatory variable and a target variable. \n",
    "\n",
    "Finally, Random Forest Regression produces valuable diagnostics such as the variable importance \n",
    "plot that quantifies the impact of an explanatory variable in the regression model. \n",
    "\n",
    "Because the price of real estate is also highly related to time. We also need to put time into consideration and perform different areas and spatial groups time series prediction. In the last part of the report, I used the best model (GWR) to predict on sale real estate price, simply performed Dickey-Fuller Test on the whole predictions and found the time series is not stational. The next step is to make the dataset stational or separate the dataset into different spatial groups to try the test again. For time series prediction, we only need time feature and past days’ price o predict the price. After combining the spatial model and time series model, we would declaim more interest insights."
   ]
  },
  {
   "cell_type": "markdown",
   "metadata": {},
   "source": [
    "## Reference \n",
    "\n",
    "Can, A., 1992. Specification and estimation of hedonic housing price models. Regional Science and Urban Economics, 22(3), pp.453-474.\n",
    "\n",
    "Lu, B., Charlton, M. and Fotheringhama, A., 2011. Geographically Weighted Regression Using a Non-Euclidean Distance Metric with a Study on London House Price Data. Procedia Environmental Sciences, 7, pp.92-97.\n",
    "\n",
    "Huang, B., Wu, B. and Barry, M., 2010. Geographically and temporally weighted regression for modeling spatio-temporal variation in house prices. International Journal of Geographical Information Science, 24(3), pp.383-401.\n",
    "\n",
    "Geng, J., 2011. Geographically Weighted Regression model (GWR) based spatial analysis of house price in Shenzhen. In: 19thInternational Conference on Geoinformatics. Shanghai.\t\n"
   ]
  }
 ],
 "metadata": {
  "kernelspec": {
   "display_name": "Python 3",
   "language": "python",
   "name": "python3"
  },
  "language_info": {
   "codemirror_mode": {
    "name": "ipython",
    "version": 3
   },
   "file_extension": ".py",
   "mimetype": "text/x-python",
   "name": "python",
   "nbconvert_exporter": "python",
   "pygments_lexer": "ipython3",
   "version": "3.8.5"
  }
 },
 "nbformat": 4,
 "nbformat_minor": 4
}
